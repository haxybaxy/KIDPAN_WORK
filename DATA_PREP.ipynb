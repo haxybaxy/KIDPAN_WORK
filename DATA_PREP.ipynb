{
 "cells": [
  {
   "cell_type": "code",
   "execution_count": 1,
   "metadata": {},
   "outputs": [],
   "source": [
    "import numpy as np\n",
    "import pandas as pd\n",
    "import tensorflow as tf\n",
    "import matplotlib as plt"
   ]
  },
  {
   "cell_type": "code",
   "execution_count": 2,
   "metadata": {},
   "outputs": [
    {
     "name": "stderr",
     "output_type": "stream",
     "text": [
      "C:\\Users\\Omar\\AppData\\Local\\Temp\\ipykernel_15840\\263349833.py:2: DtypeWarning: Columns (2,5,8,10,11,12,13,17,18,19,20,21,22,23,27,28,29,30,31,33,34,35,37,38,44,45,46,47,48,51,52,53,54,65,66,69,70,71,72,73,74,75,76,77,78,81,82,83,84,85,86,87,88,89,90,91,92,93,99,103,104,105,106,107,108,111,112,114,115,116,117,119,121,122,131,133,134,135,136,137,138,139,140,148,150,151,152,153,154,155,156,157,158,159,160,161,162,163,164,165,166,167,168,170,171,172,173,174,175,176,177,178,179,180,181,182,183,184,185,186,187,188,189,190,191,192,193,194,195,196,198,199,201,202,203,204,205,206,207,208,209,210,211,212,213,215,216,217,218,219,220,221,222,223,224,225,226,227,228,229,230,233,234,235,236,237,238,239,240,241,242,243,245,246,247,249,250,251,252,254,255,256,257,258,259,260,261,262,263,267,268,269,270,276,278,279,280,281,284,286,288,289,293,294,295,296,297,298,299,300,301,302,305,307,308,309,313,314,316,320,327,329,331,332,334,335,336,337,338,339,340,341,342,343,346,347,351,352,353,354,355,356,357,358,359,360,361,362,363,364,365,366,367,368,370,371,372,376,377,378,380,381,382,383,385,386,387,388,389,390,392,408,409,410,411,412,413,414,417,418,419,422,428,429,430,431,432,433,434,435,436,437,438,439,442,443,445,446,447,449,454,455,456,457,458,459,467,468,469,470,471) have mixed types. Specify dtype option on import or set low_memory=False.\n",
      "  DATA_data = pd.read_csv(\"DATASETS\\KIDPAN_DATA.DAT\", delimiter=\"\\t\", header=None)\n"
     ]
    }
   ],
   "source": [
    "# HLA_data = pd.read_csv(\"DATASETS\\KIDPAN_ADDTL_HLA.DAT\", delimiter=\"\\t\", header=None)\n",
    "DATA_data = pd.read_csv(\"DATASETS\\KIDPAN_DATA.DAT\", delimiter=\"\\t\", header=None)\n",
    "#FOL_data = pd.read_csv(\"DATASETS\\KIDPAN_FOLLOWUP_DATA.DAT\", delimiter=\"\\t\", header=None)\n",
    "#IMM_DIS_data = pd.read_csv(\"DATASETS\\KIDPAN_IMMUNO_DISCHARGE_DATA.DAT\", delimiter=\"\\t\", header=None)\n",
    "#IMM_FOL_data = pd.read_csv(\"DATASETS\\KIDPAN_IMMUNO_FOLLOWUP_DATA.DAT\", delimiter=\"\\t\", header=None)\n",
    "#PRA_data = pd.read_csv(\"DATASETS\\KIDPAN_PRA_CROSSMATCH_DATA.DAT\", delimiter=\"\\t\", header=None)"
   ]
  },
  {
   "cell_type": "code",
   "execution_count": 3,
   "metadata": {},
   "outputs": [],
   "source": [
    "# HLA_cn = pd.read_excel(\"Column names\\cnames_HLA.xlsx\", header=None)[0].tolist()\n",
    "DATA_cn = pd.read_excel(\"Column names\\cnames_DATA.xlsx\", header=None)[0].tolist()\n",
    "#FOL_cn = pd.read_excel(\"Column names\\cnames_FOLLOWUP.xlsx\", header=None)[0].tolist()\n",
    "#IMM_DIS_cn = pd.read_excel(\"Column names\\cnames_IMM_DIS.xlsx\", header=None)[0].tolist()\n",
    "#IMM_FOL_cn = pd.read_excel(\"Column names\\cnames_IMM_FOL.xlsx\", header=None)[0].tolist()\n",
    "#PRA_cn = pd.read_excel(\"Column names\\cnames_PRA.xlsx\", header=None)[0].tolist()"
   ]
  },
  {
   "cell_type": "code",
   "execution_count": 4,
   "metadata": {},
   "outputs": [],
   "source": [
    "# HLA_data.columns = HLA_cn\n",
    "DATA_data.columns = DATA_cn\n",
    "#FOL_data.columns = FOL_cn\n",
    "#IMM_DIS_data.columns = IMM_DIS_cn\n",
    "#IMM_FOL_data.columns = IMM_FOL_cn\n",
    "#PRA_data.columns = PRA_cn"
   ]
  },
  {
   "cell_type": "code",
   "execution_count": 5,
   "metadata": {},
   "outputs": [],
   "source": [
    "big_samp = DATA_data.sample(n=2000)"
   ]
  },
  {
   "cell_type": "code",
   "execution_count": 6,
   "metadata": {},
   "outputs": [],
   "source": [
    "big_samp.to_csv(\"my_sample.csv\")"
   ]
  },
  {
   "cell_type": "code",
   "execution_count": 7,
   "metadata": {},
   "outputs": [],
   "source": [
    "test_data = DATA_data[DATA_data[\"ORGAN\"] == \"PA\"]\n",
    "test_data = pd.concat([test_data, DATA_data[DATA_data[\"ORGAN\"] == \"KP\"]])\n",
    "\n",
    "#should be the column ORGAN and not wl_org"
   ]
  },
  {
   "cell_type": "code",
   "execution_count": 8,
   "metadata": {},
   "outputs": [],
   "source": [
    "# bad_cols = [\"ACADEMIC_LEVEL_TCR\", \"ACADEMIC_LEVEL_TRR\", \"ACADEMIC_PRG_TCR\", \"ACADEMIC_PRG_TRR\", \"ACTIVATE_DATE\", \n",
    "#             \"ADMISSION_DATE\", \"ADMIT_DATE_DON\", \"CITIZEN_COUNTRY\", \"CITIZEN_COUNTRY_DON\", \"CITIZENSHIP\", \n",
    "#             \"CITIZENSHIP_DON\"]"
   ]
  },
  {
   "cell_type": "code",
   "execution_count": 9,
   "metadata": {},
   "outputs": [],
   "source": [
    "#test_data.drop(columns=bad_cols, inplace=True)"
   ]
  },
  {
   "cell_type": "code",
   "execution_count": 10,
   "metadata": {},
   "outputs": [],
   "source": [
    "#vals = pd.DataFrame(good_val[\"BMI_CALC\"].value_counts())"
   ]
  },
  {
   "cell_type": "code",
   "execution_count": 11,
   "metadata": {},
   "outputs": [],
   "source": [
    "#vals"
   ]
  },
  {
   "cell_type": "code",
   "execution_count": 12,
   "metadata": {},
   "outputs": [
    {
     "data": {
      "text/html": [
       "<div>\n",
       "<style scoped>\n",
       "    .dataframe tbody tr th:only-of-type {\n",
       "        vertical-align: middle;\n",
       "    }\n",
       "\n",
       "    .dataframe tbody tr th {\n",
       "        vertical-align: top;\n",
       "    }\n",
       "\n",
       "    .dataframe thead th {\n",
       "        text-align: right;\n",
       "    }\n",
       "</style>\n",
       "<table border=\"1\" class=\"dataframe\">\n",
       "  <thead>\n",
       "    <tr style=\"text-align: right;\">\n",
       "      <th></th>\n",
       "      <th>WL_ORG</th>\n",
       "      <th>COD_WL</th>\n",
       "      <th>NUM_PREV_TX</th>\n",
       "      <th>CURRENT_PRA</th>\n",
       "      <th>PEAK_PRA</th>\n",
       "      <th>USE_WHICH_PRA</th>\n",
       "      <th>CREAT_CLEAR</th>\n",
       "      <th>GFR</th>\n",
       "      <th>DONATION</th>\n",
       "      <th>ON_DIALYSIS</th>\n",
       "      <th>...</th>\n",
       "      <th>INO_PROCURE_AGENT_3</th>\n",
       "      <th>TRANSPLANT_TIME</th>\n",
       "      <th>TRANSPLANTTIMEZONEID</th>\n",
       "      <th>DATA_TRANSPLANT</th>\n",
       "      <th>DATA_WAITLIST</th>\n",
       "      <th>CTR_CODE</th>\n",
       "      <th>OPO_CTR_CODE</th>\n",
       "      <th>INIT_OPO_CTR_CODE</th>\n",
       "      <th>END_OPO_CTR_CODE</th>\n",
       "      <th>LISTING_CTR_CODE</th>\n",
       "    </tr>\n",
       "  </thead>\n",
       "  <tbody>\n",
       "    <tr>\n",
       "      <th>1144747</th>\n",
       "      <td>PA</td>\n",
       "      <td>.</td>\n",
       "      <td>1</td>\n",
       "      <td>0</td>\n",
       "      <td>0</td>\n",
       "      <td>C</td>\n",
       "      <td>.</td>\n",
       "      <td>.</td>\n",
       "      <td>NaN</td>\n",
       "      <td>N</td>\n",
       "      <td>...</td>\n",
       "      <td>.</td>\n",
       "      <td>.</td>\n",
       "      <td>.</td>\n",
       "      <td>Y</td>\n",
       "      <td>Y</td>\n",
       "      <td>15562</td>\n",
       "      <td>11036</td>\n",
       "      <td>11036</td>\n",
       "      <td>11036</td>\n",
       "      <td>15562</td>\n",
       "    </tr>\n",
       "    <tr>\n",
       "      <th>1144751</th>\n",
       "      <td>PA</td>\n",
       "      <td>.</td>\n",
       "      <td>0</td>\n",
       "      <td>.</td>\n",
       "      <td>.</td>\n",
       "      <td>NaN</td>\n",
       "      <td>.</td>\n",
       "      <td>.</td>\n",
       "      <td>NaN</td>\n",
       "      <td>NaN</td>\n",
       "      <td>...</td>\n",
       "      <td>.</td>\n",
       "      <td>.</td>\n",
       "      <td>.</td>\n",
       "      <td>Y</td>\n",
       "      <td>Y</td>\n",
       "      <td>24800</td>\n",
       "      <td>20491</td>\n",
       "      <td>14353</td>\n",
       "      <td>14353</td>\n",
       "      <td>24800</td>\n",
       "    </tr>\n",
       "    <tr>\n",
       "      <th>1144765</th>\n",
       "      <td>PA</td>\n",
       "      <td>.</td>\n",
       "      <td>2</td>\n",
       "      <td>.</td>\n",
       "      <td>.</td>\n",
       "      <td>NaN</td>\n",
       "      <td>.</td>\n",
       "      <td>.</td>\n",
       "      <td>NaN</td>\n",
       "      <td>NaN</td>\n",
       "      <td>...</td>\n",
       "      <td>.</td>\n",
       "      <td>.</td>\n",
       "      <td>.</td>\n",
       "      <td>Y</td>\n",
       "      <td>Y</td>\n",
       "      <td>16368</td>\n",
       "      <td>12865</td>\n",
       "      <td>217</td>\n",
       "      <td>217</td>\n",
       "      <td>16368</td>\n",
       "    </tr>\n",
       "    <tr>\n",
       "      <th>1144766</th>\n",
       "      <td>PA</td>\n",
       "      <td>.</td>\n",
       "      <td>0</td>\n",
       "      <td>.</td>\n",
       "      <td>.</td>\n",
       "      <td>NaN</td>\n",
       "      <td>.</td>\n",
       "      <td>.</td>\n",
       "      <td>NaN</td>\n",
       "      <td>NaN</td>\n",
       "      <td>...</td>\n",
       "      <td>.</td>\n",
       "      <td>.</td>\n",
       "      <td>.</td>\n",
       "      <td>Y</td>\n",
       "      <td>Y</td>\n",
       "      <td>22320</td>\n",
       "      <td>09331</td>\n",
       "      <td>9331</td>\n",
       "      <td>9331</td>\n",
       "      <td>22320</td>\n",
       "    </tr>\n",
       "    <tr>\n",
       "      <th>1144768</th>\n",
       "      <td>PA</td>\n",
       "      <td>.</td>\n",
       "      <td>0</td>\n",
       "      <td>.</td>\n",
       "      <td>.</td>\n",
       "      <td>NaN</td>\n",
       "      <td>.</td>\n",
       "      <td>.</td>\n",
       "      <td>NaN</td>\n",
       "      <td>NaN</td>\n",
       "      <td>...</td>\n",
       "      <td>.</td>\n",
       "      <td>.</td>\n",
       "      <td>.</td>\n",
       "      <td>Y</td>\n",
       "      <td>Y</td>\n",
       "      <td>7254</td>\n",
       "      <td>18879</td>\n",
       "      <td>18879</td>\n",
       "      <td>18879</td>\n",
       "      <td>07254</td>\n",
       "    </tr>\n",
       "  </tbody>\n",
       "</table>\n",
       "<p>5 rows × 472 columns</p>\n",
       "</div>"
      ],
      "text/plain": [
       "        WL_ORG COD_WL NUM_PREV_TX CURRENT_PRA PEAK_PRA USE_WHICH_PRA  \\\n",
       "1144747     PA      .           1           0        0             C   \n",
       "1144751     PA      .           0           .        .           NaN   \n",
       "1144765     PA      .           2           .        .           NaN   \n",
       "1144766     PA      .           0           .        .           NaN   \n",
       "1144768     PA      .           0           .        .           NaN   \n",
       "\n",
       "        CREAT_CLEAR GFR DONATION ON_DIALYSIS  ... INO_PROCURE_AGENT_3  \\\n",
       "1144747           .   .      NaN           N  ...                   .   \n",
       "1144751           .   .      NaN         NaN  ...                   .   \n",
       "1144765           .   .      NaN         NaN  ...                   .   \n",
       "1144766           .   .      NaN         NaN  ...                   .   \n",
       "1144768           .   .      NaN         NaN  ...                   .   \n",
       "\n",
       "        TRANSPLANT_TIME TRANSPLANTTIMEZONEID DATA_TRANSPLANT DATA_WAITLIST  \\\n",
       "1144747               .                    .               Y             Y   \n",
       "1144751               .                    .               Y             Y   \n",
       "1144765               .                    .               Y             Y   \n",
       "1144766               .                    .               Y             Y   \n",
       "1144768               .                    .               Y             Y   \n",
       "\n",
       "        CTR_CODE OPO_CTR_CODE INIT_OPO_CTR_CODE END_OPO_CTR_CODE  \\\n",
       "1144747    15562        11036             11036            11036   \n",
       "1144751    24800        20491             14353            14353   \n",
       "1144765    16368        12865               217              217   \n",
       "1144766    22320        09331              9331             9331   \n",
       "1144768     7254        18879             18879            18879   \n",
       "\n",
       "        LISTING_CTR_CODE  \n",
       "1144747            15562  \n",
       "1144751            24800  \n",
       "1144765            16368  \n",
       "1144766            22320  \n",
       "1144768            07254  \n",
       "\n",
       "[5 rows x 472 columns]"
      ]
     },
     "execution_count": 12,
     "metadata": {},
     "output_type": "execute_result"
    }
   ],
   "source": [
    "test_data.head()"
   ]
  },
  {
   "cell_type": "code",
   "execution_count": 13,
   "metadata": {},
   "outputs": [],
   "source": [
    "dupper = test_data[test_data.duplicated(subset=[\"TRR_ID_CODE\"], keep=\"first\")]"
   ]
  },
  {
   "cell_type": "code",
   "execution_count": 14,
   "metadata": {},
   "outputs": [],
   "source": [
    "testier_data = test_data.iloc[[0,1,2,3,4]]\n",
    "testier_data.to_csv(\"test_data.csv\")"
   ]
  },
  {
   "cell_type": "code",
   "execution_count": 15,
   "metadata": {},
   "outputs": [],
   "source": [
    "good_val = test_data.dropna(axis=0, subset=\"TRR_ID_CODE\")"
   ]
  },
  {
   "cell_type": "code",
   "execution_count": 16,
   "metadata": {},
   "outputs": [
    {
     "name": "stderr",
     "output_type": "stream",
     "text": [
      "C:\\Users\\Omar\\AppData\\Local\\Temp\\ipykernel_15840\\2825563992.py:3: PerformanceWarning: DataFrame is highly fragmented.  This is usually the result of calling `frame.insert` many times, which has poor performance.  Consider joining all columns at once using pd.concat(axis=1) instead. To get a de-fragmented frame, use `newframe = frame.copy()`\n",
      "  good_val.insert(0, \"TRR_ID_CODE\", first_col)\n"
     ]
    }
   ],
   "source": [
    "first_col = good_val.pop(\"TRR_ID_CODE\")\n",
    "\n",
    "good_val.insert(0, \"TRR_ID_CODE\", first_col)"
   ]
  },
  {
   "cell_type": "code",
   "execution_count": 17,
   "metadata": {},
   "outputs": [],
   "source": [
    "good_val_test = good_val[good_val[\"CURRENT_PRA\"] != \".\"]"
   ]
  },
  {
   "cell_type": "code",
   "execution_count": 21,
   "metadata": {},
   "outputs": [],
   "source": [
    "good_val.to_csv(\"PAN_data.csv\", index=False)"
   ]
  },
  {
   "cell_type": "code",
   "execution_count": 19,
   "metadata": {},
   "outputs": [
    {
     "data": {
      "text/plain": [
       "0.0"
      ]
     },
     "execution_count": 19,
     "metadata": {},
     "output_type": "execute_result"
    }
   ],
   "source": [
    "pd.to_numeric(good_val_test[\"CURRENT_PRA\"]).median()"
   ]
  },
  {
   "cell_type": "code",
   "execution_count": 20,
   "metadata": {},
   "outputs": [
    {
     "name": "stdout",
     "output_type": "stream",
     "text": [
      "RDA1\n",
      "0       20626\n",
      "2        6579\n",
      "1        4035\n",
      "3        2086\n",
      "24        834\n",
      "11        687\n",
      "23        571\n",
      "30        385\n",
      "29        247\n",
      "26        201\n",
      "33        145\n",
      "31        124\n",
      "25        123\n",
      "28        117\n",
      "68        117\n",
      "99        107\n",
      "201       102\n",
      "32         87\n",
      "101        61\n",
      "34         61\n",
      "36         37\n",
      "301        30\n",
      "66         27\n",
      "2402       19\n",
      "1101       12\n",
      "74         12\n",
      "3001        9\n",
      "202         7\n",
      "19          6\n",
      "2902        6\n",
      "2601        5\n",
      "98          4\n",
      "10          4\n",
      "203         3\n",
      "205         3\n",
      "206         3\n",
      "102         3\n",
      "97          3\n",
      "43          2\n",
      "9           2\n",
      "3002        2\n",
      "6601        2\n",
      "3303        2\n",
      "3301        2\n",
      "3402        1\n",
      "80          1\n",
      "69          1\n",
      "2403        1\n",
      "Name: count, dtype: int64\n"
     ]
    }
   ],
   "source": [
    "valCounts = good_val[\"RDA1\"]\n",
    "valCounts = valCounts.replace(to_replace=\".\", value=0)\n",
    "valCounts = pd.to_numeric(valCounts, downcast=\"integer\")\n",
    "valCounts = valCounts.value_counts()\n",
    "print(valCounts)\n",
    "valCounts = valCounts.reset_index()\n",
    "valCounts.to_csv(\"valCounts.csv\")\n",
    "# pd.insert(0, \"TRR_ID_CODE\", first_trr)"
   ]
  }
 ],
 "metadata": {
  "kernelspec": {
   "display_name": "Python 3",
   "language": "python",
   "name": "python3"
  },
  "language_info": {
   "codemirror_mode": {
    "name": "ipython",
    "version": 3
   },
   "file_extension": ".py",
   "mimetype": "text/x-python",
   "name": "python",
   "nbconvert_exporter": "python",
   "pygments_lexer": "ipython3",
   "version": "3.11.4"
  }
 },
 "nbformat": 4,
 "nbformat_minor": 2
}
