{
 "cells": [
  {
   "cell_type": "code",
   "execution_count": 109,
   "metadata": {},
   "outputs": [],
   "source": [
    "import pandas as pd\n",
    "import numpy as np\n",
    "from sklearn.model_selection import train_test_split\n",
    "from sksurv.util import Surv\n",
    "from sksurv.metrics import cumulative_dynamic_auc\n",
    "from lifelines import WeibullFitter, ExponentialFitter, LogNormalFitter, LogLogisticFitter"
   ]
  },
  {
   "cell_type": "code",
   "execution_count": 110,
   "metadata": {},
   "outputs": [],
   "source": [
    "data = pd.read_csv(\"data_ready_45.csv\")"
   ]
  },
  {
   "cell_type": "code",
   "execution_count": 111,
   "metadata": {},
   "outputs": [],
   "source": [
    "data[\"time_frame\"] = data[\"time_frame\"] + 1"
   ]
  },
  {
   "cell_type": "code",
   "execution_count": 112,
   "metadata": {},
   "outputs": [],
   "source": [
    "train, test = train_test_split(data, test_size=0.2, stratify=data[\"GRF_STAT_PA\"], random_state=42)"
   ]
  },
  {
   "cell_type": "code",
   "execution_count": 113,
   "metadata": {},
   "outputs": [],
   "source": [
    "y_train = train[[\"time_frame\", \"GRF_STAT_PA\"]]\n",
    "y_real_train = Surv.from_dataframe(\"GRF_STAT_PA\", \"time_frame\", y_train)\n",
    "x_train = train.drop(columns=[\"time_frame\", \"GRF_STAT_PA\"])"
   ]
  },
  {
   "cell_type": "code",
   "execution_count": 114,
   "metadata": {},
   "outputs": [],
   "source": [
    "y = test[[\"time_frame\", \"GRF_STAT_PA\"]]\n",
    "\n",
    "x_test = test.drop(columns=[\"time_frame\", \"GRF_STAT_PA\"], axis=1)"
   ]
  },
  {
   "cell_type": "code",
   "execution_count": 115,
   "metadata": {},
   "outputs": [
    {
     "name": "stdout",
     "output_type": "stream",
     "text": [
      "Selected features: Index(['PERIP_VASC', 'CREAT_TRR', 'AGE_DON', 'DDAVP_DON', 'CMV_DON', 'BUN_DON',\n",
      "       'SGOT_DON', 'SGPT_DON', 'TBILI_DON', 'CLIN_INFECT_DON',\n",
      "       'HGT_CM_DON_CALC', 'WGT_KG_DON_CALC', 'AGE', 'DIAL_TRR', 'DUCT_MGMT_2',\n",
      "       'DIAG_PA_is5001', 'DAYSWAIT_CHRON_PA', 'ORGAN_isKP', 'MED_COND_TRR_is3',\n",
      "       'HGT_CM_CALC', 'WGT_KG_CALC', 'PROTEIN_URINE', 'LIPASE', 'AMYLASE',\n",
      "       'RESUSCIT_DUR', 'INOTROP_SUPPORT_DON', 'YRS_DIAB'],\n",
      "      dtype='object')\n"
     ]
    },
    {
     "data": {
      "text/plain": [
       "<lifelines.LogNormalAFTFitter: fitted with 16908 total observations, 12979 right-censored observations>"
      ]
     },
     "execution_count": 115,
     "metadata": {},
     "output_type": "execute_result"
    }
   ],
   "source": [
    "from lifelines import LogNormalAFTFitter\n",
    "from sklearn.linear_model import LassoCV\n",
    "\n",
    "# Example: Feature selection using LASSO\n",
    "\n",
    "\n",
    "lasso = LassoCV(cv=50).fit(x_train, y_train['time_frame'])  # Use survival times for LASSO selection\n",
    "selected_features = x_train.columns[(lasso.coef_ != 0)]\n",
    "print(\"Selected features:\", selected_features)\n",
    "\n",
    "# Fit AFT model with selected features\n",
    "aft = LogNormalAFTFitter()\n",
    "features = list(selected_features) + ['time_frame', 'GRF_STAT_PA']\n",
    "aft.fit(train[features], duration_col='time_frame', event_col='GRF_STAT_PA')\n"
   ]
  },
  {
   "cell_type": "code",
   "execution_count": 104,
   "metadata": {},
   "outputs": [],
   "source": [
    "y_real = Surv.from_dataframe(\"GRF_STAT_PA\", \"time_frame\", y)\n",
    "\n",
    "time_points = [30, 365, 365*2, 365*5]\n",
    "\n",
    "preds = aft.predict_cumulative_hazard(df=x, times=time_points)\n",
    "\n",
    "auc, mean_auc = cumulative_dynamic_auc(y_real_train, y_real, preds.T, time_points)"
   ]
  },
  {
   "cell_type": "code",
   "execution_count": 105,
   "metadata": {},
   "outputs": [
    {
     "name": "stdout",
     "output_type": "stream",
     "text": [
      "Dynamic AUC values at different time points:\n",
      "Time 30.00: AUC = 0.774\n",
      "Time 365.00: AUC = 0.716\n",
      "Time 730.00: AUC = 0.740\n",
      "Time 1825.00: AUC = 0.714\n",
      "\n",
      "Mean Dynamic AUC: 0.724\n"
     ]
    }
   ],
   "source": [
    "print(\"Dynamic AUC values at different time points:\")\n",
    "for t, auc in zip(time_points, auc):\n",
    "    print(f\"Time {t:.2f}: AUC = {auc:.3f}\")\n",
    "\n",
    "print(f\"\\nMean Dynamic AUC: {mean_auc:.3f}\")"
   ]
  },
  {
   "cell_type": "code",
   "execution_count": 126,
   "metadata": {},
   "outputs": [],
   "source": [
    "preds_train = pd.DataFrame(aft.predict_expectation(x_train), columns=[\"AFT\"])\n",
    "preds_test = pd.DataFrame(aft.predict_expectation(x_test), columns=[\"AFT\"])\n",
    "\n",
    "new_train = pd.concat([train[features], preds_train], axis=1)\n",
    "new_test = pd.concat([test[features], preds_test], axis=1)"
   ]
  },
  {
   "cell_type": "code",
   "execution_count": 127,
   "metadata": {},
   "outputs": [],
   "source": [
    "new_train.to_csv(\"train_aft.csv\", index=False)\n",
    "new_test.to_csv(\"test_aft.csv\", index=False)"
   ]
  }
 ],
 "metadata": {
  "kernelspec": {
   "display_name": "Python 3",
   "language": "python",
   "name": "python3"
  },
  "language_info": {
   "codemirror_mode": {
    "name": "ipython",
    "version": 3
   },
   "file_extension": ".py",
   "mimetype": "text/x-python",
   "name": "python",
   "nbconvert_exporter": "python",
   "pygments_lexer": "ipython3",
   "version": "3.11.4"
  }
 },
 "nbformat": 4,
 "nbformat_minor": 2
}
