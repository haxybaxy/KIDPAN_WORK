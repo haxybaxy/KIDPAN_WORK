{
 "cells": [
  {
   "cell_type": "code",
   "execution_count": 1,
   "metadata": {},
   "outputs": [],
   "source": [
    "import pandas as pd\n",
    "import numpy as np\n",
    "from sklearn.model_selection import train_test_split\n",
    "from sksurv.util import Surv\n",
    "from sksurv.metrics import cumulative_dynamic_auc\n",
    "from lifelines import WeibullFitter, ExponentialFitter, LogNormalFitter, LogLogisticFitter, LogNormalAFTFitter"
   ]
  },
  {
   "cell_type": "code",
   "execution_count": 2,
   "metadata": {},
   "outputs": [],
   "source": [
    "data = pd.read_csv(\"data_ready_45.csv\")"
   ]
  },
  {
   "cell_type": "code",
   "execution_count": 3,
   "metadata": {},
   "outputs": [],
   "source": [
    "data[\"AGE_CMV\"] = data[\"AGE\"] * data[\"CMV_STATUS\"]\n",
    "data[\"VIR_CO_INF\"] = data[\"CMV_STATUS\"] * data[\"EBV_SEROSTATUS\"]\n",
    "data[\"AGE_BMI_DON\"] = data[\"AGE_DON\"] * data[\"BMI_DON_CALC\"]\n",
    "data[\"AGE_BMI\"] = data[\"AGE\"] * data[\"BMI_CALC\"]\n",
    "data[\"DIAB_BMI\"] = data[\"YRS_DIAB\"] * data[\"BMI_CALC\"]"
   ]
  },
  {
   "cell_type": "code",
   "execution_count": 4,
   "metadata": {},
   "outputs": [],
   "source": [
    "data[\"time_frame\"] = data[\"time_frame\"] + 1\n",
    "data[\"time_frame\"] = data[\"time_frame\"] / 12"
   ]
  },
  {
   "cell_type": "code",
   "execution_count": 5,
   "metadata": {},
   "outputs": [],
   "source": [
    "train, test = train_test_split(data, test_size=0.2, stratify=data[\"GRF_STAT_PA\"], random_state=42)"
   ]
  },
  {
   "cell_type": "code",
   "execution_count": 6,
   "metadata": {},
   "outputs": [],
   "source": [
    "y_train = train[[\"time_frame\", \"GRF_STAT_PA\"]]\n",
    "y_real_train = Surv.from_dataframe(\"GRF_STAT_PA\", \"time_frame\", y_train)\n",
    "x_train = train.drop(columns=[\"time_frame\", \"GRF_STAT_PA\"])"
   ]
  },
  {
   "cell_type": "code",
   "execution_count": 7,
   "metadata": {},
   "outputs": [],
   "source": [
    "y = test[[\"time_frame\", \"GRF_STAT_PA\"]]\n",
    "\n",
    "x_test = test.drop(columns=[\"time_frame\", \"GRF_STAT_PA\"], axis=1)"
   ]
  },
  {
   "cell_type": "code",
   "execution_count": 8,
   "metadata": {},
   "outputs": [
    {
     "name": "stdout",
     "output_type": "stream",
     "text": [
      "Selected features: Index(['CREAT_TRR', 'BUN_DON', 'SGOT_DON', 'SGPT_DON', 'CLIN_INFECT_DON',\n",
      "       'HGT_CM_DON_CALC', 'WGT_KG_DON_CALC', 'PA_PRESERV_TM', 'DIAG_PA_is5001',\n",
      "       'DAYSWAIT_CHRON_PA', 'ORGAN_isKP', 'CMV_IGG', 'MED_COND_TRR_is3',\n",
      "       'HGT_CM_CALC', 'WGT_KG_CALC', 'LIPASE', 'AMYLASE', 'RESUSCIT_DUR',\n",
      "       'INOTROP_SUPPORT_DON', 'YRS_DIAB', 'AGE_CMV', 'AGE_BMI_DON', 'AGE_BMI',\n",
      "       'DIAB_BMI'],\n",
      "      dtype='object')\n"
     ]
    },
    {
     "data": {
      "text/plain": [
       "<lifelines.LogNormalAFTFitter: fitted with 16908 total observations, 12979 right-censored observations>"
      ]
     },
     "execution_count": 8,
     "metadata": {},
     "output_type": "execute_result"
    }
   ],
   "source": [
    "from sklearn.linear_model import ElasticNetCV\n",
    "\n",
    "# Use ElasticNetCV with cross-validation for feature selection\n",
    "elastic_net = ElasticNetCV(l1_ratio=[0.1, 0.5, 0.7, 0.9, 0.95, 0.99], cv=50).fit(x_train, y_train['time_frame'])\n",
    "\n",
    "# Select features with non-zero coefficients\n",
    "selected_features = x_train.columns[(elastic_net.coef_ != 0)]\n",
    "print(\"Selected features:\", selected_features)\n",
    "\n",
    "# Fit AFT model with selected features\n",
    "aft = LogNormalAFTFitter()\n",
    "features = list(selected_features) + ['time_frame', 'GRF_STAT_PA']\n",
    "aft.fit(train[features], duration_col='time_frame', event_col='GRF_STAT_PA')"
   ]
  },
  {
   "cell_type": "code",
   "execution_count": 9,
   "metadata": {},
   "outputs": [],
   "source": [
    "y_real = Surv.from_dataframe(\"GRF_STAT_PA\", \"time_frame\", y)\n",
    "\n",
    "time_points = np.arange(12, 12*10, 12)\n",
    "\n",
    "preds = aft.predict_cumulative_hazard(df=x_test, times=time_points)\n",
    "\n",
    "auc, mean_auc = cumulative_dynamic_auc(y_real_train, y_real, preds.T, time_points)"
   ]
  },
  {
   "cell_type": "code",
   "execution_count": 10,
   "metadata": {},
   "outputs": [
    {
     "name": "stdout",
     "output_type": "stream",
     "text": [
      "Dynamic AUC values at different time points:\n",
      "Time 12.00: AUC = 0.760\n",
      "Time 24.00: AUC = 0.750\n",
      "Time 36.00: AUC = 0.729\n",
      "Time 48.00: AUC = 0.736\n",
      "Time 60.00: AUC = 0.745\n",
      "Time 72.00: AUC = 0.745\n",
      "Time 84.00: AUC = 0.732\n",
      "Time 96.00: AUC = 0.725\n",
      "Time 108.00: AUC = 0.724\n",
      "\n",
      "Mean Dynamic AUC: 0.739\n"
     ]
    }
   ],
   "source": [
    "print(\"Dynamic AUC values at different time points:\")\n",
    "for t, auc in zip(time_points, auc):\n",
    "    print(f\"Time {t:.2f}: AUC = {auc:.3f}\")\n",
    "\n",
    "print(f\"\\nMean Dynamic AUC: {mean_auc:.3f}\")"
   ]
  },
  {
   "cell_type": "code",
   "execution_count": 11,
   "metadata": {},
   "outputs": [],
   "source": [
    "preds_train = pd.DataFrame(aft.predict_expectation(x_train), columns=[\"AFT\"])\n",
    "preds_test = pd.DataFrame(aft.predict_expectation(x_test), columns=[\"AFT\"])\n",
    "\n",
    "new_train = pd.concat([train[features], preds_train], axis=1)\n",
    "new_test = pd.concat([test[features], preds_test], axis=1)"
   ]
  },
  {
   "cell_type": "code",
   "execution_count": 12,
   "metadata": {},
   "outputs": [],
   "source": [
    "from lifelines import CoxPHFitter\n",
    "from lifelines.utils import concordance_index\n",
    "\n",
    "cox_model = CoxPHFitter(penalizer=0.1).fit(new_train, duration_col='time_frame', event_col='GRF_STAT_PA')"
   ]
  },
  {
   "cell_type": "code",
   "execution_count": 15,
   "metadata": {},
   "outputs": [],
   "source": [
    "preds_cox_train = pd.DataFrame(cox_model.predict_expectation(new_train, times=time_points), columns=[\"COX\"])\n",
    "preds_cox_test = pd.DataFrame(cox_model.predict_expectation(new_test), columns=[\"COX\"])\n",
    "\n",
    "new_cox_train = pd.concat([new_train, preds_cox_train], axis=1)\n",
    "new_cox_test = pd.concat([new_test, preds_cox_test], axis=1)"
   ]
  },
  {
   "cell_type": "code",
   "execution_count": 14,
   "metadata": {},
   "outputs": [],
   "source": [
    "new_cox_train.to_csv(\"train_aft.csv\", index=False)\n",
    "new_cox_test.to_csv(\"test_aft.csv\", index=False)"
   ]
  }
 ],
 "metadata": {
  "kernelspec": {
   "display_name": "Python 3",
   "language": "python",
   "name": "python3"
  },
  "language_info": {
   "codemirror_mode": {
    "name": "ipython",
    "version": 3
   },
   "file_extension": ".py",
   "mimetype": "text/x-python",
   "name": "python",
   "nbconvert_exporter": "python",
   "pygments_lexer": "ipython3",
   "version": "3.11.4"
  }
 },
 "nbformat": 4,
 "nbformat_minor": 2
}
