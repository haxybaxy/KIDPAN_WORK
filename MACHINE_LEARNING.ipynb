{
 "cells": [
  {
   "cell_type": "code",
   "execution_count": 42,
   "metadata": {},
   "outputs": [],
   "source": [
    "import pandas as pd\n",
    "import numpy as np\n",
    "import tensorflow as tf\n",
    "from sklearn.model_selection import train_test_split\n",
    "import matplotlib.pyplot as plt"
   ]
  },
  {
   "cell_type": "code",
   "execution_count": 43,
   "metadata": {},
   "outputs": [],
   "source": [
    "data_ready = pd.read_csv(\"data_ready.csv\")"
   ]
  },
  {
   "cell_type": "code",
   "execution_count": 44,
   "metadata": {},
   "outputs": [],
   "source": [
    "data_ready[data_ready.select_dtypes(include=['float64']).columns] = data_ready.select_dtypes(include=['float64']).astype(\"float32\")"
   ]
  },
  {
   "cell_type": "code",
   "execution_count": 45,
   "metadata": {},
   "outputs": [],
   "source": [
    "data_ready = data_ready.sample(frac=1)"
   ]
  },
  {
   "cell_type": "code",
   "execution_count": 46,
   "metadata": {},
   "outputs": [],
   "source": [
    "# 70% training data, 15% validation, 15% test\n",
    "train_dev, test = train_test_split(data_ready, test_size=0.15, random_state=42)\n",
    "train, dev = train_test_split(train_dev, test_size=0.176, random_state=42)"
   ]
  },
  {
   "cell_type": "code",
   "execution_count": 14,
   "metadata": {},
   "outputs": [],
   "source": [
    "# # Step 1: Separate majority and minority classes\n",
    "# minority_class = train[train['5YR_SURV'] == 0]  # Adjust the condition based on your class labels\n",
    "# majority_class = train[train['5YR_SURV'] == 1]\n",
    "\n",
    "# # Step 2: Duplicate (oversample) the minority class\n",
    "# oversample_minority = minority_class.sample(n=len(majority_class), replace=True)\n",
    "\n",
    "# # Step 3: Combine the majority class with the oversampled minority class\n",
    "# balanced_df = pd.concat([majority_class, oversample_minority])\n",
    "\n",
    "# # Shuffle the dataset to mix up the rows\n",
    "# train = balanced_df.sample(frac=1).reset_index(drop=True)"
   ]
  },
  {
   "cell_type": "code",
   "execution_count": 53,
   "metadata": {},
   "outputs": [
    {
     "name": "stdout",
     "output_type": "stream",
     "text": [
      "Ensemble accuracy: 0.8065661047027507\n"
     ]
    }
   ],
   "source": [
    "import pandas as pd\n",
    "import numpy as np\n",
    "from sklearn.model_selection import train_test_split\n",
    "from sklearn.ensemble import RandomForestClassifier\n",
    "from sklearn.metrics import accuracy_score\n",
    "from sklearn.utils import resample\n",
    "\n",
    "# Assuming you have a dataset with X (features) and y (target)\n",
    "# X, y = load_your_data()\n",
    "\n",
    "# Split into minority and majority classes\n",
    "X_minority = train[train[\"5YR_SURV\"] == 0].copy()  # Rare class\n",
    "X_majority = train[train[\"5YR_SURV\"] == 1].copy()  # Abundant class\n",
    "\n",
    "col = [\"5YR_SURV\"]\n",
    "X_minority = X_minority.drop(col, axis=1)\n",
    "X_majority = X_majority.drop(col, axis=1)\n",
    "# Define number of models (n) for ensembling\n",
    "n_models = 10\n",
    "n_majority_samples = 1000  # Number of majority samples per model\n",
    "models = []\n",
    "\n",
    "# Train n models with subsets of the majority class\n",
    "for i in range(n_models):\n",
    "    # Randomly sample from the majority class without replacement\n",
    "    X_majority_sample = resample(X_majority, n_samples=n_majority_samples, replace=False, random_state=i)\n",
    "\n",
    "    # Combine with minority class\n",
    "    X_train = pd.concat([X_minority, X_majority_sample])\n",
    "    y_train = np.hstack((np.zeros(len(X_minority)), np.ones(len(X_majority_sample))))\n",
    "\n",
    "    # Split into train/test sets\n",
    "    X_train_split, X_test_split, y_train_split, y_test_split = train_test_split(X_train, y_train, test_size=0.2, random_state=i)\n",
    "\n",
    "    # Train a model (using Random Forest as an example)\n",
    "    model = RandomForestClassifier(random_state=i)\n",
    "    model.fit(X_train_split, y_train_split)\n",
    "\n",
    "    # Store model\n",
    "    models.append(model)\n",
    "\n",
    "# Ensemble predictions\n",
    "def ensemble_predict(X_test, models):\n",
    "    # Get predictions from each model\n",
    "    predictions = np.zeros((len(models), len(X_test)))\n",
    "    for i, model in enumerate(models):\n",
    "        predictions[i, :] = model.predict(X_test)\n",
    "    \n",
    "    # Majority voting (for classification)\n",
    "    final_predictions = np.round(np.mean(predictions, axis=0))  # Round average predictions\n",
    "    return final_predictions\n",
    "\n",
    "# Test the ensemble model\n",
    "y_pred_ensemble = ensemble_predict(X_test_split, models)\n",
    "\n",
    "# Evaluate accuracy\n",
    "print(f\"Ensemble accuracy: {accuracy_score(y_test_split, y_pred_ensemble)}\")\n"
   ]
  },
  {
   "cell_type": "code",
   "execution_count": 15,
   "metadata": {},
   "outputs": [],
   "source": [
    "# convert to tensors and extract labels\n",
    "\n",
    "train_label = train.pop(\"5YR_SURV\")\n",
    "dev_label = dev.pop(\"5YR_SURV\")\n",
    "test_label = test.pop(\"5YR_SURV\")\n",
    "\n",
    "train_tf = tf.convert_to_tensor(train)\n",
    "dev_tf = tf.convert_to_tensor(dev)\n",
    "test_tf = tf.convert_to_tensor(test)\n",
    "\n",
    "train_label_tf = tf.convert_to_tensor(train_label)\n",
    "dev_label_tf = tf.convert_to_tensor(dev_label)\n",
    "test_label_tf = tf.convert_to_tensor(test_label)"
   ]
  },
  {
   "cell_type": "code",
   "execution_count": 16,
   "metadata": {},
   "outputs": [],
   "source": [
    "from tensorflow.keras.initializers import GlorotUniform"
   ]
  },
  {
   "cell_type": "code",
   "execution_count": 17,
   "metadata": {},
   "outputs": [],
   "source": [
    "model = tf.keras.Sequential(\n",
    "    [\n",
    "       tf.keras.Input(shape=(214,)),\n",
    "       tf.keras.layers.Dense(512, activation=\"relu\", kernel_regularizer=tf.keras.regularizers.l1_l2(l1=0.003, l2=0.003), name=\"L1\"),\n",
    "       tf.keras.layers.BatchNormalization(),\n",
    "       tf.keras.layers.Dropout(0.2),\n",
    "       tf.keras.layers.Dense(256, activation=\"relu\", kernel_regularizer=tf.keras.regularizers.l1_l2(l1=0.003, l2=0.003), name=\"L3\"),\n",
    "       tf.keras.layers.BatchNormalization(),\n",
    "       tf.keras.layers.Dropout(0.2),\n",
    "       tf.keras.layers.Dense(256, activation=\"relu\", kernel_regularizer=tf.keras.regularizers.l1_l2(l1=0.003, l2=0.003), name=\"L15\"),\n",
    "       tf.keras.layers.BatchNormalization(),\n",
    "       tf.keras.layers.Dropout(0.2),\n",
    "       tf.keras.layers.Dense(128, activation=\"relu\", kernel_regularizer=tf.keras.regularizers.l1_l2(l1=0.003, l2=0.003), name=\"L5\"),\n",
    "       tf.keras.layers.BatchNormalization(),\n",
    "       tf.keras.layers.Dropout(0.2),\n",
    "       tf.keras.layers.Dense(64, activation=\"relu\", kernel_regularizer=tf.keras.regularizers.l1_l2(l1=0.003, l2=0.003), name=\"L9\"),\n",
    "       tf.keras.layers.BatchNormalization(),\n",
    "       tf.keras.layers.Dropout(0.2),\n",
    "       tf.keras.layers.Dense(32, activation=\"relu\", kernel_regularizer=tf.keras.regularizers.l1_l2(l1=0.003, l2=0.003), name=\"L11\"),\n",
    "       tf.keras.layers.BatchNormalization(),\n",
    "       tf.keras.layers.Dropout(0.2),\n",
    "       tf.keras.layers.Dense(1, activation=\"sigmoid\", name=\"L13\") \n",
    "    ]\n",
    ")"
   ]
  },
  {
   "cell_type": "code",
   "execution_count": 18,
   "metadata": {},
   "outputs": [],
   "source": [
    "model.compile(\n",
    "    optimizer=tf.keras.optimizers.Adam(learning_rate=1e-5),\n",
    "    loss=tf.keras.losses.BinaryCrossentropy(), \n",
    "    metrics=[\"accuracy\", tf.keras.metrics.Recall(), tf.keras.metrics.AUC()]\n",
    ")"
   ]
  },
  {
   "cell_type": "code",
   "execution_count": 19,
   "metadata": {},
   "outputs": [],
   "source": [
    "early_stopping = tf.keras.callbacks.EarlyStopping(monitor='val_loss', patience=20, restore_best_weights=True)"
   ]
  },
  {
   "cell_type": "code",
   "execution_count": 20,
   "metadata": {},
   "outputs": [],
   "source": [
    "from sklearn.utils import class_weight\n",
    "y_train = np.array(train_label_tf)\n",
    "class_weights = class_weight.compute_class_weight('balanced', classes=np.unique(y_train), y=y_train)\n",
    "\n",
    "# Convert the class weights into a dictionary with class labels as keys\n",
    "class_weight_dict = dict(enumerate(class_weights))"
   ]
  },
  {
   "cell_type": "code",
   "execution_count": 22,
   "metadata": {},
   "outputs": [
    {
     "name": "stdout",
     "output_type": "stream",
     "text": [
      "Epoch 1/3000\n",
      "\u001b[1m191/191\u001b[0m \u001b[32m━━━━━━━━━━━━━━━━━━━━\u001b[0m\u001b[37m\u001b[0m \u001b[1m8s\u001b[0m 14ms/step - accuracy: 0.4993 - auc: 0.5035 - loss: 56.5788 - recall: 0.4918 - val_accuracy: 0.3060 - val_auc: 0.5144 - val_loss: 55.7783 - val_recall: 0.0614\n",
      "Epoch 2/3000\n",
      "\u001b[1m191/191\u001b[0m \u001b[32m━━━━━━━━━━━━━━━━━━━━\u001b[0m\u001b[37m\u001b[0m \u001b[1m2s\u001b[0m 11ms/step - accuracy: 0.5091 - auc: 0.5112 - loss: 55.8578 - recall: 0.4946 - val_accuracy: 0.4112 - val_auc: 0.5225 - val_loss: 55.0994 - val_recall: 0.2883\n",
      "Epoch 3/3000\n",
      "\u001b[1m191/191\u001b[0m \u001b[32m━━━━━━━━━━━━━━━━━━━━\u001b[0m\u001b[37m\u001b[0m \u001b[1m2s\u001b[0m 11ms/step - accuracy: 0.5096 - auc: 0.5152 - loss: 55.1876 - recall: 0.4903 - val_accuracy: 0.4742 - val_auc: 0.5301 - val_loss: 54.3952 - val_recall: 0.4243\n",
      "Epoch 4/3000\n",
      "\u001b[1m191/191\u001b[0m \u001b[32m━━━━━━━━━━━━━━━━━━━━\u001b[0m\u001b[37m\u001b[0m \u001b[1m2s\u001b[0m 11ms/step - accuracy: 0.5146 - auc: 0.5224 - loss: 54.4908 - recall: 0.4990 - val_accuracy: 0.4915 - val_auc: 0.5345 - val_loss: 53.7151 - val_recall: 0.4590\n",
      "Epoch 5/3000\n",
      "\u001b[1m191/191\u001b[0m \u001b[32m━━━━━━━━━━━━━━━━━━━━\u001b[0m\u001b[37m\u001b[0m \u001b[1m2s\u001b[0m 11ms/step - accuracy: 0.5222 - auc: 0.5246 - loss: 53.8170 - recall: 0.5039 - val_accuracy: 0.5046 - val_auc: 0.5392 - val_loss: 53.0423 - val_recall: 0.4826\n",
      "Epoch 6/3000\n",
      "\u001b[1m191/191\u001b[0m \u001b[32m━━━━━━━━━━━━━━━━━━━━\u001b[0m\u001b[37m\u001b[0m \u001b[1m2s\u001b[0m 11ms/step - accuracy: 0.5212 - auc: 0.5306 - loss: 53.1360 - recall: 0.5033 - val_accuracy: 0.5141 - val_auc: 0.5461 - val_loss: 52.3726 - val_recall: 0.4961\n",
      "Epoch 7/3000\n",
      "\u001b[1m191/191\u001b[0m \u001b[32m━━━━━━━━━━━━━━━━━━━━\u001b[0m\u001b[37m\u001b[0m \u001b[1m2s\u001b[0m 11ms/step - accuracy: 0.5219 - auc: 0.5307 - loss: 52.4661 - recall: 0.4948 - val_accuracy: 0.5211 - val_auc: 0.5505 - val_loss: 51.7070 - val_recall: 0.5031\n",
      "Epoch 8/3000\n",
      "\u001b[1m191/191\u001b[0m \u001b[32m━━━━━━━━━━━━━━━━━━━━\u001b[0m\u001b[37m\u001b[0m \u001b[1m2s\u001b[0m 12ms/step - accuracy: 0.5273 - auc: 0.5407 - loss: 51.7867 - recall: 0.4958 - val_accuracy: 0.5236 - val_auc: 0.5522 - val_loss: 51.0415 - val_recall: 0.5046\n",
      "Epoch 9/3000\n",
      "\u001b[1m191/191\u001b[0m \u001b[32m━━━━━━━━━━━━━━━━━━━━\u001b[0m\u001b[37m\u001b[0m \u001b[1m2s\u001b[0m 11ms/step - accuracy: 0.5347 - auc: 0.5435 - loss: 51.1160 - recall: 0.4998 - val_accuracy: 0.5283 - val_auc: 0.5570 - val_loss: 50.3770 - val_recall: 0.5139\n",
      "Epoch 10/3000\n",
      "\u001b[1m191/191\u001b[0m \u001b[32m━━━━━━━━━━━━━━━━━━━━\u001b[0m\u001b[37m\u001b[0m \u001b[1m2s\u001b[0m 11ms/step - accuracy: 0.5369 - auc: 0.5529 - loss: 50.4364 - recall: 0.5039 - val_accuracy: 0.5286 - val_auc: 0.5613 - val_loss: 49.7161 - val_recall: 0.5124\n",
      "Epoch 11/3000\n",
      "\u001b[1m191/191\u001b[0m \u001b[32m━━━━━━━━━━━━━━━━━━━━\u001b[0m\u001b[37m\u001b[0m \u001b[1m2s\u001b[0m 11ms/step - accuracy: 0.5399 - auc: 0.5518 - loss: 49.7810 - recall: 0.5070 - val_accuracy: 0.5294 - val_auc: 0.5643 - val_loss: 49.0578 - val_recall: 0.5124\n",
      "Epoch 12/3000\n",
      "\u001b[1m191/191\u001b[0m \u001b[32m━━━━━━━━━━━━━━━━━━━━\u001b[0m\u001b[37m\u001b[0m \u001b[1m2s\u001b[0m 11ms/step - accuracy: 0.5353 - auc: 0.5494 - loss: 49.1175 - recall: 0.4893 - val_accuracy: 0.5392 - val_auc: 0.5682 - val_loss: 48.3955 - val_recall: 0.5294\n",
      "Epoch 13/3000\n",
      "\u001b[1m191/191\u001b[0m \u001b[32m━━━━━━━━━━━━━━━━━━━━\u001b[0m\u001b[37m\u001b[0m \u001b[1m2s\u001b[0m 11ms/step - accuracy: 0.5379 - auc: 0.5577 - loss: 48.4494 - recall: 0.4882 - val_accuracy: 0.5384 - val_auc: 0.5711 - val_loss: 47.7410 - val_recall: 0.5240\n",
      "Epoch 14/3000\n",
      "\u001b[1m191/191\u001b[0m \u001b[32m━━━━━━━━━━━━━━━━━━━━\u001b[0m\u001b[37m\u001b[0m \u001b[1m2s\u001b[0m 11ms/step - accuracy: 0.5324 - auc: 0.5484 - loss: 47.7992 - recall: 0.4783 - val_accuracy: 0.5392 - val_auc: 0.5727 - val_loss: 47.0872 - val_recall: 0.5263\n",
      "Epoch 15/3000\n",
      "\u001b[1m191/191\u001b[0m \u001b[32m━━━━━━━━━━━━━━━━━━━━\u001b[0m\u001b[37m\u001b[0m \u001b[1m2s\u001b[0m 11ms/step - accuracy: 0.5354 - auc: 0.5521 - loss: 47.1366 - recall: 0.4822 - val_accuracy: 0.5400 - val_auc: 0.5741 - val_loss: 46.4355 - val_recall: 0.5286\n",
      "Epoch 16/3000\n",
      "\u001b[1m191/191\u001b[0m \u001b[32m━━━━━━━━━━━━━━━━━━━━\u001b[0m\u001b[37m\u001b[0m \u001b[1m2s\u001b[0m 11ms/step - accuracy: 0.5420 - auc: 0.5582 - loss: 46.4747 - recall: 0.4788 - val_accuracy: 0.5386 - val_auc: 0.5761 - val_loss: 45.7885 - val_recall: 0.5228\n",
      "Epoch 17/3000\n",
      "\u001b[1m191/191\u001b[0m \u001b[32m━━━━━━━━━━━━━━━━━━━━\u001b[0m\u001b[37m\u001b[0m \u001b[1m2s\u001b[0m 11ms/step - accuracy: 0.5365 - auc: 0.5541 - loss: 45.8234 - recall: 0.4698 - val_accuracy: 0.5356 - val_auc: 0.5764 - val_loss: 45.1417 - val_recall: 0.5189\n",
      "Epoch 18/3000\n",
      "\u001b[1m191/191\u001b[0m \u001b[32m━━━━━━━━━━━━━━━━━━━━\u001b[0m\u001b[37m\u001b[0m \u001b[1m2s\u001b[0m 11ms/step - accuracy: 0.5380 - auc: 0.5554 - loss: 45.1763 - recall: 0.4623 - val_accuracy: 0.5381 - val_auc: 0.5782 - val_loss: 44.4985 - val_recall: 0.5197\n",
      "Epoch 19/3000\n",
      "\u001b[1m191/191\u001b[0m \u001b[32m━━━━━━━━━━━━━━━━━━━━\u001b[0m\u001b[37m\u001b[0m \u001b[1m2s\u001b[0m 11ms/step - accuracy: 0.5469 - auc: 0.5618 - loss: 44.5244 - recall: 0.4715 - val_accuracy: 0.5397 - val_auc: 0.5796 - val_loss: 43.8602 - val_recall: 0.5182\n",
      "Epoch 20/3000\n",
      "\u001b[1m191/191\u001b[0m \u001b[32m━━━━━━━━━━━━━━━━━━━━\u001b[0m\u001b[37m\u001b[0m \u001b[1m2s\u001b[0m 11ms/step - accuracy: 0.5404 - auc: 0.5595 - loss: 43.8813 - recall: 0.4555 - val_accuracy: 0.5411 - val_auc: 0.5809 - val_loss: 43.2258 - val_recall: 0.5162\n",
      "Epoch 21/3000\n",
      "\u001b[1m191/191\u001b[0m \u001b[32m━━━━━━━━━━━━━━━━━━━━\u001b[0m\u001b[37m\u001b[0m \u001b[1m2s\u001b[0m 11ms/step - accuracy: 0.5440 - auc: 0.5655 - loss: 43.2370 - recall: 0.4632 - val_accuracy: 0.5378 - val_auc: 0.5819 - val_loss: 42.5943 - val_recall: 0.5097\n",
      "Epoch 22/3000\n",
      "\u001b[1m191/191\u001b[0m \u001b[32m━━━━━━━━━━━━━━━━━━━━\u001b[0m\u001b[37m\u001b[0m \u001b[1m2s\u001b[0m 12ms/step - accuracy: 0.5432 - auc: 0.5639 - loss: 42.6065 - recall: 0.4506 - val_accuracy: 0.5389 - val_auc: 0.5832 - val_loss: 41.9614 - val_recall: 0.5100\n",
      "Epoch 23/3000\n",
      "\u001b[1m191/191\u001b[0m \u001b[32m━━━━━━━━━━━━━━━━━━━━\u001b[0m\u001b[37m\u001b[0m \u001b[1m2s\u001b[0m 12ms/step - accuracy: 0.5481 - auc: 0.5684 - loss: 41.9632 - recall: 0.4546 - val_accuracy: 0.5356 - val_auc: 0.5833 - val_loss: 41.3375 - val_recall: 0.5027\n",
      "Epoch 24/3000\n",
      "\u001b[1m191/191\u001b[0m \u001b[32m━━━━━━━━━━━━━━━━━━━━\u001b[0m\u001b[37m\u001b[0m \u001b[1m2s\u001b[0m 12ms/step - accuracy: 0.5404 - auc: 0.5600 - loss: 41.3459 - recall: 0.4366 - val_accuracy: 0.5403 - val_auc: 0.5851 - val_loss: 40.7120 - val_recall: 0.5062\n",
      "Epoch 25/3000\n",
      "\u001b[1m191/191\u001b[0m \u001b[32m━━━━━━━━━━━━━━━━━━━━\u001b[0m\u001b[37m\u001b[0m \u001b[1m2s\u001b[0m 12ms/step - accuracy: 0.5475 - auc: 0.5682 - loss: 40.7119 - recall: 0.4436 - val_accuracy: 0.5317 - val_auc: 0.5861 - val_loss: 40.0961 - val_recall: 0.4911\n",
      "Epoch 26/3000\n",
      "\u001b[1m191/191\u001b[0m \u001b[32m━━━━━━━━━━━━━━━━━━━━\u001b[0m\u001b[37m\u001b[0m \u001b[1m2s\u001b[0m 13ms/step - accuracy: 0.5408 - auc: 0.5661 - loss: 40.0828 - recall: 0.4303 - val_accuracy: 0.5305 - val_auc: 0.5854 - val_loss: 39.4789 - val_recall: 0.4923\n",
      "Epoch 27/3000\n",
      "\u001b[1m191/191\u001b[0m \u001b[32m━━━━━━━━━━━━━━━━━━━━\u001b[0m\u001b[37m\u001b[0m \u001b[1m2s\u001b[0m 11ms/step - accuracy: 0.5509 - auc: 0.5708 - loss: 39.4642 - recall: 0.4323 - val_accuracy: 0.5236 - val_auc: 0.5863 - val_loss: 38.8701 - val_recall: 0.4791\n",
      "Epoch 28/3000\n",
      "\u001b[1m191/191\u001b[0m \u001b[32m━━━━━━━━━━━━━━━━━━━━\u001b[0m\u001b[37m\u001b[0m \u001b[1m2s\u001b[0m 12ms/step - accuracy: 0.5460 - auc: 0.5645 - loss: 38.8592 - recall: 0.4269 - val_accuracy: 0.5303 - val_auc: 0.5874 - val_loss: 38.2607 - val_recall: 0.4861\n",
      "Epoch 29/3000\n",
      "\u001b[1m191/191\u001b[0m \u001b[32m━━━━━━━━━━━━━━━━━━━━\u001b[0m\u001b[37m\u001b[0m \u001b[1m2s\u001b[0m 11ms/step - accuracy: 0.5424 - auc: 0.5640 - loss: 38.2525 - recall: 0.4238 - val_accuracy: 0.5250 - val_auc: 0.5884 - val_loss: 37.6614 - val_recall: 0.4772\n",
      "Epoch 30/3000\n",
      "\u001b[1m191/191\u001b[0m \u001b[32m━━━━━━━━━━━━━━━━━━━━\u001b[0m\u001b[37m\u001b[0m \u001b[1m2s\u001b[0m 11ms/step - accuracy: 0.5376 - auc: 0.5579 - loss: 37.6503 - recall: 0.4083 - val_accuracy: 0.5188 - val_auc: 0.5896 - val_loss: 37.0656 - val_recall: 0.4660\n",
      "Epoch 31/3000\n",
      "\u001b[1m191/191\u001b[0m \u001b[32m━━━━━━━━━━━━━━━━━━━━\u001b[0m\u001b[37m\u001b[0m \u001b[1m2s\u001b[0m 11ms/step - accuracy: 0.5477 - auc: 0.5770 - loss: 37.0267 - recall: 0.4092 - val_accuracy: 0.5194 - val_auc: 0.5905 - val_loss: 36.4702 - val_recall: 0.4664\n",
      "Epoch 32/3000\n",
      "\u001b[1m191/191\u001b[0m \u001b[32m━━━━━━━━━━━━━━━━━━━━\u001b[0m\u001b[37m\u001b[0m \u001b[1m2s\u001b[0m 11ms/step - accuracy: 0.5451 - auc: 0.5689 - loss: 36.4402 - recall: 0.3996 - val_accuracy: 0.5191 - val_auc: 0.5923 - val_loss: 35.8787 - val_recall: 0.4641\n",
      "Epoch 33/3000\n",
      "\u001b[1m191/191\u001b[0m \u001b[32m━━━━━━━━━━━━━━━━━━━━\u001b[0m\u001b[37m\u001b[0m \u001b[1m2s\u001b[0m 11ms/step - accuracy: 0.5463 - auc: 0.5713 - loss: 35.8512 - recall: 0.3996 - val_accuracy: 0.5152 - val_auc: 0.5936 - val_loss: 35.2961 - val_recall: 0.4563\n",
      "Epoch 34/3000\n",
      "\u001b[1m191/191\u001b[0m \u001b[32m━━━━━━━━━━━━━━━━━━━━\u001b[0m\u001b[37m\u001b[0m \u001b[1m2s\u001b[0m 11ms/step - accuracy: 0.5489 - auc: 0.5752 - loss: 35.2560 - recall: 0.3986 - val_accuracy: 0.5063 - val_auc: 0.5932 - val_loss: 34.7194 - val_recall: 0.4420\n",
      "Epoch 35/3000\n",
      "\u001b[1m191/191\u001b[0m \u001b[32m━━━━━━━━━━━━━━━━━━━━\u001b[0m\u001b[37m\u001b[0m \u001b[1m2s\u001b[0m 11ms/step - accuracy: 0.5505 - auc: 0.5733 - loss: 34.6804 - recall: 0.3918 - val_accuracy: 0.5085 - val_auc: 0.5953 - val_loss: 34.1454 - val_recall: 0.4447\n",
      "Epoch 36/3000\n",
      "\u001b[1m191/191\u001b[0m \u001b[32m━━━━━━━━━━━━━━━━━━━━\u001b[0m\u001b[37m\u001b[0m \u001b[1m2s\u001b[0m 12ms/step - accuracy: 0.5413 - auc: 0.5627 - loss: 34.1156 - recall: 0.3846 - val_accuracy: 0.5068 - val_auc: 0.5955 - val_loss: 33.5788 - val_recall: 0.4405\n",
      "Epoch 37/3000\n",
      "\u001b[1m191/191\u001b[0m \u001b[32m━━━━━━━━━━━━━━━━━━━━\u001b[0m\u001b[37m\u001b[0m \u001b[1m2s\u001b[0m 12ms/step - accuracy: 0.5506 - auc: 0.5823 - loss: 33.5266 - recall: 0.3857 - val_accuracy: 0.4948 - val_auc: 0.5966 - val_loss: 33.0220 - val_recall: 0.4227\n",
      "Epoch 38/3000\n",
      "\u001b[1m191/191\u001b[0m \u001b[32m━━━━━━━━━━━━━━━━━━━━\u001b[0m\u001b[37m\u001b[0m \u001b[1m2s\u001b[0m 11ms/step - accuracy: 0.5549 - auc: 0.5880 - loss: 32.9583 - recall: 0.3884 - val_accuracy: 0.4946 - val_auc: 0.5986 - val_loss: 32.4680 - val_recall: 0.4185\n",
      "Epoch 39/3000\n",
      "\u001b[1m191/191\u001b[0m \u001b[32m━━━━━━━━━━━━━━━━━━━━\u001b[0m\u001b[37m\u001b[0m \u001b[1m2s\u001b[0m 11ms/step - accuracy: 0.5455 - auc: 0.5733 - loss: 32.4170 - recall: 0.3611 - val_accuracy: 0.4907 - val_auc: 0.5981 - val_loss: 31.9201 - val_recall: 0.4107\n",
      "Epoch 40/3000\n",
      "\u001b[1m191/191\u001b[0m \u001b[32m━━━━━━━━━━━━━━━━━━━━\u001b[0m\u001b[37m\u001b[0m \u001b[1m2s\u001b[0m 11ms/step - accuracy: 0.5470 - auc: 0.5786 - loss: 31.8597 - recall: 0.3598 - val_accuracy: 0.4870 - val_auc: 0.5981 - val_loss: 31.3817 - val_recall: 0.4046\n",
      "Epoch 41/3000\n",
      "\u001b[1m191/191\u001b[0m \u001b[32m━━━━━━━━━━━━━━━━━━━━\u001b[0m\u001b[37m\u001b[0m \u001b[1m2s\u001b[0m 11ms/step - accuracy: 0.5560 - auc: 0.5867 - loss: 31.3178 - recall: 0.3695 - val_accuracy: 0.4809 - val_auc: 0.5990 - val_loss: 30.8485 - val_recall: 0.3964\n",
      "Epoch 42/3000\n",
      "\u001b[1m191/191\u001b[0m \u001b[32m━━━━━━━━━━━━━━━━━━━━\u001b[0m\u001b[37m\u001b[0m \u001b[1m2s\u001b[0m 11ms/step - accuracy: 0.5471 - auc: 0.5840 - loss: 30.7849 - recall: 0.3525 - val_accuracy: 0.4837 - val_auc: 0.6004 - val_loss: 30.3214 - val_recall: 0.3953\n",
      "Epoch 43/3000\n",
      "\u001b[1m191/191\u001b[0m \u001b[32m━━━━━━━━━━━━━━━━━━━━\u001b[0m\u001b[37m\u001b[0m \u001b[1m2s\u001b[0m 11ms/step - accuracy: 0.5487 - auc: 0.5895 - loss: 30.2481 - recall: 0.3504 - val_accuracy: 0.4734 - val_auc: 0.6003 - val_loss: 29.8043 - val_recall: 0.3771\n",
      "Epoch 44/3000\n",
      "\u001b[1m191/191\u001b[0m \u001b[32m━━━━━━━━━━━━━━━━━━━━\u001b[0m\u001b[37m\u001b[0m \u001b[1m2s\u001b[0m 11ms/step - accuracy: 0.5572 - auc: 0.5913 - loss: 29.7275 - recall: 0.3509 - val_accuracy: 0.4750 - val_auc: 0.6007 - val_loss: 29.2893 - val_recall: 0.3791\n",
      "Epoch 45/3000\n",
      "\u001b[1m191/191\u001b[0m \u001b[32m━━━━━━━━━━━━━━━━━━━━\u001b[0m\u001b[37m\u001b[0m \u001b[1m2s\u001b[0m 11ms/step - accuracy: 0.5460 - auc: 0.5854 - loss: 29.2161 - recall: 0.3348 - val_accuracy: 0.4717 - val_auc: 0.6014 - val_loss: 28.7820 - val_recall: 0.3709\n",
      "Epoch 46/3000\n",
      "\u001b[1m191/191\u001b[0m \u001b[32m━━━━━━━━━━━━━━━━━━━━\u001b[0m\u001b[37m\u001b[0m \u001b[1m2s\u001b[0m 11ms/step - accuracy: 0.5515 - auc: 0.5905 - loss: 28.6985 - recall: 0.3382 - val_accuracy: 0.4725 - val_auc: 0.6025 - val_loss: 28.2820 - val_recall: 0.3690\n",
      "Epoch 47/3000\n",
      "\u001b[1m191/191\u001b[0m \u001b[32m━━━━━━━━━━━━━━━━━━━━\u001b[0m\u001b[37m\u001b[0m \u001b[1m2s\u001b[0m 11ms/step - accuracy: 0.5513 - auc: 0.5866 - loss: 28.2040 - recall: 0.3318 - val_accuracy: 0.4703 - val_auc: 0.6031 - val_loss: 27.7918 - val_recall: 0.3566\n",
      "Epoch 48/3000\n",
      "\u001b[1m191/191\u001b[0m \u001b[32m━━━━━━━━━━━━━━━━━━━━\u001b[0m\u001b[37m\u001b[0m \u001b[1m2s\u001b[0m 11ms/step - accuracy: 0.5538 - auc: 0.5959 - loss: 27.7014 - recall: 0.3293 - val_accuracy: 0.4683 - val_auc: 0.6043 - val_loss: 27.3077 - val_recall: 0.3539\n",
      "Epoch 49/3000\n",
      "\u001b[1m191/191\u001b[0m \u001b[32m━━━━━━━━━━━━━━━━━━━━\u001b[0m\u001b[37m\u001b[0m \u001b[1m2s\u001b[0m 11ms/step - accuracy: 0.5537 - auc: 0.5909 - loss: 27.2233 - recall: 0.3287 - val_accuracy: 0.4700 - val_auc: 0.6066 - val_loss: 26.8276 - val_recall: 0.3543\n",
      "Epoch 50/3000\n",
      "\u001b[1m191/191\u001b[0m \u001b[32m━━━━━━━━━━━━━━━━━━━━\u001b[0m\u001b[37m\u001b[0m \u001b[1m2s\u001b[0m 12ms/step - accuracy: 0.5421 - auc: 0.5861 - loss: 26.7425 - recall: 0.3145 - val_accuracy: 0.4642 - val_auc: 0.6064 - val_loss: 26.3580 - val_recall: 0.3443\n",
      "Epoch 51/3000\n",
      "\u001b[1m191/191\u001b[0m \u001b[32m━━━━━━━━━━━━━━━━━━━━\u001b[0m\u001b[37m\u001b[0m \u001b[1m2s\u001b[0m 12ms/step - accuracy: 0.5486 - auc: 0.5983 - loss: 26.2638 - recall: 0.3156 - val_accuracy: 0.4608 - val_auc: 0.6081 - val_loss: 25.8935 - val_recall: 0.3373\n",
      "Epoch 52/3000\n",
      "\u001b[1m191/191\u001b[0m \u001b[32m━━━━━━━━━━━━━━━━━━━━\u001b[0m\u001b[37m\u001b[0m \u001b[1m2s\u001b[0m 11ms/step - accuracy: 0.5549 - auc: 0.5905 - loss: 25.7996 - recall: 0.3194 - val_accuracy: 0.4633 - val_auc: 0.6095 - val_loss: 25.4347 - val_recall: 0.3385\n",
      "Epoch 53/3000\n",
      "\u001b[1m191/191\u001b[0m \u001b[32m━━━━━━━━━━━━━━━━━━━━\u001b[0m\u001b[37m\u001b[0m \u001b[1m2s\u001b[0m 11ms/step - accuracy: 0.5517 - auc: 0.6021 - loss: 25.3327 - recall: 0.3083 - val_accuracy: 0.4572 - val_auc: 0.6103 - val_loss: 24.9848 - val_recall: 0.3269\n",
      "Epoch 54/3000\n",
      "\u001b[1m191/191\u001b[0m \u001b[32m━━━━━━━━━━━━━━━━━━━━\u001b[0m\u001b[37m\u001b[0m \u001b[1m2s\u001b[0m 11ms/step - accuracy: 0.5466 - auc: 0.5878 - loss: 24.8945 - recall: 0.2958 - val_accuracy: 0.4474 - val_auc: 0.6101 - val_loss: 24.5426 - val_recall: 0.3118\n",
      "Epoch 55/3000\n",
      "\u001b[1m191/191\u001b[0m \u001b[32m━━━━━━━━━━━━━━━━━━━━\u001b[0m\u001b[37m\u001b[0m \u001b[1m2s\u001b[0m 12ms/step - accuracy: 0.5510 - auc: 0.5918 - loss: 24.4453 - recall: 0.2955 - val_accuracy: 0.4388 - val_auc: 0.6101 - val_loss: 24.1069 - val_recall: 0.2956\n",
      "Epoch 56/3000\n",
      "\u001b[1m191/191\u001b[0m \u001b[32m━━━━━━━━━━━━━━━━━━━━\u001b[0m\u001b[37m\u001b[0m \u001b[1m2s\u001b[0m 11ms/step - accuracy: 0.5547 - auc: 0.5978 - loss: 24.0021 - recall: 0.2940 - val_accuracy: 0.4290 - val_auc: 0.6104 - val_loss: 23.6816 - val_recall: 0.2786\n",
      "Epoch 57/3000\n",
      "\u001b[1m191/191\u001b[0m \u001b[32m━━━━━━━━━━━━━━━━━━━━\u001b[0m\u001b[37m\u001b[0m \u001b[1m2s\u001b[0m 12ms/step - accuracy: 0.5549 - auc: 0.6047 - loss: 23.5633 - recall: 0.2938 - val_accuracy: 0.4298 - val_auc: 0.6099 - val_loss: 23.2563 - val_recall: 0.2782\n",
      "Epoch 58/3000\n",
      "\u001b[1m191/191\u001b[0m \u001b[32m━━━━━━━━━━━━━━━━━━━━\u001b[0m\u001b[37m\u001b[0m \u001b[1m2s\u001b[0m 11ms/step - accuracy: 0.5559 - auc: 0.6043 - loss: 23.1398 - recall: 0.2897 - val_accuracy: 0.4162 - val_auc: 0.6099 - val_loss: 22.8438 - val_recall: 0.2543\n",
      "Epoch 59/3000\n",
      "\u001b[1m191/191\u001b[0m \u001b[32m━━━━━━━━━━━━━━━━━━━━\u001b[0m\u001b[37m\u001b[0m \u001b[1m2s\u001b[0m 11ms/step - accuracy: 0.5480 - auc: 0.5939 - loss: 22.7298 - recall: 0.2784 - val_accuracy: 0.4176 - val_auc: 0.6095 - val_loss: 22.4295 - val_recall: 0.2566\n",
      "Epoch 60/3000\n",
      "\u001b[1m191/191\u001b[0m \u001b[32m━━━━━━━━━━━━━━━━━━━━\u001b[0m\u001b[37m\u001b[0m \u001b[1m2s\u001b[0m 11ms/step - accuracy: 0.5358 - auc: 0.5857 - loss: 22.3208 - recall: 0.2582 - val_accuracy: 0.4078 - val_auc: 0.6098 - val_loss: 22.0275 - val_recall: 0.2400\n",
      "Epoch 61/3000\n",
      "\u001b[1m191/191\u001b[0m \u001b[32m━━━━━━━━━━━━━━━━━━━━\u001b[0m\u001b[37m\u001b[0m \u001b[1m2s\u001b[0m 11ms/step - accuracy: 0.5453 - auc: 0.5979 - loss: 21.9036 - recall: 0.2617 - val_accuracy: 0.4011 - val_auc: 0.6101 - val_loss: 21.6316 - val_recall: 0.2291\n",
      "Epoch 62/3000\n",
      "\u001b[1m191/191\u001b[0m \u001b[32m━━━━━━━━━━━━━━━━━━━━\u001b[0m\u001b[37m\u001b[0m \u001b[1m2s\u001b[0m 11ms/step - accuracy: 0.5492 - auc: 0.5996 - loss: 21.5043 - recall: 0.2595 - val_accuracy: 0.3969 - val_auc: 0.6104 - val_loss: 21.2366 - val_recall: 0.2241\n",
      "Epoch 63/3000\n",
      "\u001b[1m191/191\u001b[0m \u001b[32m━━━━━━━━━━━━━━━━━━━━\u001b[0m\u001b[37m\u001b[0m \u001b[1m2s\u001b[0m 11ms/step - accuracy: 0.5498 - auc: 0.6000 - loss: 21.1112 - recall: 0.2609 - val_accuracy: 0.3997 - val_auc: 0.6110 - val_loss: 20.8481 - val_recall: 0.2249\n",
      "Epoch 64/3000\n",
      "\u001b[1m191/191\u001b[0m \u001b[32m━━━━━━━━━━━━━━━━━━━━\u001b[0m\u001b[37m\u001b[0m \u001b[1m2s\u001b[0m 12ms/step - accuracy: 0.5440 - auc: 0.6038 - loss: 20.7180 - recall: 0.2547 - val_accuracy: 0.3936 - val_auc: 0.6109 - val_loss: 20.4689 - val_recall: 0.2137\n",
      "Epoch 65/3000\n",
      "\u001b[1m191/191\u001b[0m \u001b[32m━━━━━━━━━━━━━━━━━━━━\u001b[0m\u001b[37m\u001b[0m \u001b[1m2s\u001b[0m 12ms/step - accuracy: 0.5530 - auc: 0.6016 - loss: 20.3379 - recall: 0.2572 - val_accuracy: 0.3941 - val_auc: 0.6119 - val_loss: 20.0950 - val_recall: 0.2121\n",
      "Epoch 66/3000\n",
      "\u001b[1m191/191\u001b[0m \u001b[32m━━━━━━━━━━━━━━━━━━━━\u001b[0m\u001b[37m\u001b[0m \u001b[1m2s\u001b[0m 12ms/step - accuracy: 0.5525 - auc: 0.6020 - loss: 19.9645 - recall: 0.2545 - val_accuracy: 0.3911 - val_auc: 0.6116 - val_loss: 19.7284 - val_recall: 0.2040\n",
      "Epoch 67/3000\n",
      "\u001b[1m191/191\u001b[0m \u001b[32m━━━━━━━━━━━━━━━━━━━━\u001b[0m\u001b[37m\u001b[0m \u001b[1m2s\u001b[0m 11ms/step - accuracy: 0.5488 - auc: 0.6085 - loss: 19.5867 - recall: 0.2490 - val_accuracy: 0.3849 - val_auc: 0.6124 - val_loss: 19.3662 - val_recall: 0.1924\n",
      "Epoch 68/3000\n",
      "\u001b[1m191/191\u001b[0m \u001b[32m━━━━━━━━━━━━━━━━━━━━\u001b[0m\u001b[37m\u001b[0m \u001b[1m2s\u001b[0m 11ms/step - accuracy: 0.5475 - auc: 0.6099 - loss: 19.2219 - recall: 0.2410 - val_accuracy: 0.3841 - val_auc: 0.6134 - val_loss: 19.0091 - val_recall: 0.1920\n",
      "Epoch 69/3000\n",
      "\u001b[1m191/191\u001b[0m \u001b[32m━━━━━━━━━━━━━━━━━━━━\u001b[0m\u001b[37m\u001b[0m \u001b[1m2s\u001b[0m 11ms/step - accuracy: 0.5391 - auc: 0.6073 - loss: 18.8633 - recall: 0.2340 - val_accuracy: 0.3796 - val_auc: 0.6142 - val_loss: 18.6562 - val_recall: 0.1862\n",
      "Epoch 70/3000\n",
      "\u001b[1m191/191\u001b[0m \u001b[32m━━━━━━━━━━━━━━━━━━━━\u001b[0m\u001b[37m\u001b[0m \u001b[1m2s\u001b[0m 11ms/step - accuracy: 0.5401 - auc: 0.6033 - loss: 18.5167 - recall: 0.2255 - val_accuracy: 0.3707 - val_auc: 0.6141 - val_loss: 18.3173 - val_recall: 0.1696\n",
      "Epoch 71/3000\n",
      "\u001b[1m191/191\u001b[0m \u001b[32m━━━━━━━━━━━━━━━━━━━━\u001b[0m\u001b[37m\u001b[0m \u001b[1m2s\u001b[0m 11ms/step - accuracy: 0.5447 - auc: 0.6091 - loss: 18.1686 - recall: 0.2209 - val_accuracy: 0.3693 - val_auc: 0.6144 - val_loss: 17.9785 - val_recall: 0.1689\n",
      "Epoch 72/3000\n",
      "\u001b[1m191/191\u001b[0m \u001b[32m━━━━━━━━━━━━━━━━━━━━\u001b[0m\u001b[37m\u001b[0m \u001b[1m2s\u001b[0m 11ms/step - accuracy: 0.5504 - auc: 0.6150 - loss: 17.8245 - recall: 0.2313 - val_accuracy: 0.3671 - val_auc: 0.6148 - val_loss: 17.6466 - val_recall: 0.1634\n",
      "Epoch 73/3000\n",
      "\u001b[1m191/191\u001b[0m \u001b[32m━━━━━━━━━━━━━━━━━━━━\u001b[0m\u001b[37m\u001b[0m \u001b[1m2s\u001b[0m 11ms/step - accuracy: 0.5473 - auc: 0.6106 - loss: 17.4904 - recall: 0.2237 - val_accuracy: 0.3609 - val_auc: 0.6158 - val_loss: 17.3180 - val_recall: 0.1534\n",
      "Epoch 74/3000\n",
      "\u001b[1m191/191\u001b[0m \u001b[32m━━━━━━━━━━━━━━━━━━━━\u001b[0m\u001b[37m\u001b[0m \u001b[1m2s\u001b[0m 11ms/step - accuracy: 0.5524 - auc: 0.6061 - loss: 17.1686 - recall: 0.2260 - val_accuracy: 0.3529 - val_auc: 0.6164 - val_loss: 16.9979 - val_recall: 0.1368\n",
      "Epoch 75/3000\n",
      "\u001b[1m191/191\u001b[0m \u001b[32m━━━━━━━━━━━━━━━━━━━━\u001b[0m\u001b[37m\u001b[0m \u001b[1m2s\u001b[0m 11ms/step - accuracy: 0.5394 - auc: 0.6070 - loss: 16.8424 - recall: 0.2115 - val_accuracy: 0.3473 - val_auc: 0.6165 - val_loss: 16.6813 - val_recall: 0.1264\n",
      "Epoch 76/3000\n",
      "\u001b[1m191/191\u001b[0m \u001b[32m━━━━━━━━━━━━━━━━━━━━\u001b[0m\u001b[37m\u001b[0m \u001b[1m2s\u001b[0m 11ms/step - accuracy: 0.5393 - auc: 0.6020 - loss: 16.5288 - recall: 0.2041 - val_accuracy: 0.3529 - val_auc: 0.6158 - val_loss: 16.3655 - val_recall: 0.1372\n",
      "Epoch 77/3000\n",
      "\u001b[1m191/191\u001b[0m \u001b[32m━━━━━━━━━━━━━━━━━━━━\u001b[0m\u001b[37m\u001b[0m \u001b[1m2s\u001b[0m 12ms/step - accuracy: 0.5458 - auc: 0.6125 - loss: 16.2052 - recall: 0.2010 - val_accuracy: 0.3464 - val_auc: 0.6150 - val_loss: 16.0615 - val_recall: 0.1244\n",
      "Epoch 78/3000\n",
      "\u001b[1m191/191\u001b[0m \u001b[32m━━━━━━━━━━━━━━━━━━━━\u001b[0m\u001b[37m\u001b[0m \u001b[1m2s\u001b[0m 12ms/step - accuracy: 0.5481 - auc: 0.6161 - loss: 15.8955 - recall: 0.2065 - val_accuracy: 0.3409 - val_auc: 0.6154 - val_loss: 15.7623 - val_recall: 0.1159\n",
      "Epoch 79/3000\n",
      "\u001b[1m191/191\u001b[0m \u001b[32m━━━━━━━━━━━━━━━━━━━━\u001b[0m\u001b[37m\u001b[0m \u001b[1m2s\u001b[0m 12ms/step - accuracy: 0.5439 - auc: 0.6155 - loss: 15.5957 - recall: 0.1985 - val_accuracy: 0.3370 - val_auc: 0.6146 - val_loss: 15.4685 - val_recall: 0.1090\n",
      "Epoch 80/3000\n",
      "\u001b[1m191/191\u001b[0m \u001b[32m━━━━━━━━━━━━━━━━━━━━\u001b[0m\u001b[37m\u001b[0m \u001b[1m2s\u001b[0m 12ms/step - accuracy: 0.5440 - auc: 0.6087 - loss: 15.3024 - recall: 0.1952 - val_accuracy: 0.3400 - val_auc: 0.6150 - val_loss: 15.1751 - val_recall: 0.1140\n",
      "Epoch 81/3000\n",
      "\u001b[1m191/191\u001b[0m \u001b[32m━━━━━━━━━━━━━━━━━━━━\u001b[0m\u001b[37m\u001b[0m \u001b[1m2s\u001b[0m 12ms/step - accuracy: 0.5392 - auc: 0.6130 - loss: 15.0078 - recall: 0.1881 - val_accuracy: 0.3331 - val_auc: 0.6156 - val_loss: 14.8929 - val_recall: 0.0997\n",
      "Epoch 82/3000\n",
      "\u001b[1m191/191\u001b[0m \u001b[32m━━━━━━━━━━━━━━━━━━━━\u001b[0m\u001b[37m\u001b[0m \u001b[1m2s\u001b[0m 12ms/step - accuracy: 0.5421 - auc: 0.6172 - loss: 14.7150 - recall: 0.1928 - val_accuracy: 0.3333 - val_auc: 0.6161 - val_loss: 14.6099 - val_recall: 0.1016\n",
      "Epoch 83/3000\n",
      "\u001b[1m191/191\u001b[0m \u001b[32m━━━━━━━━━━━━━━━━━━━━\u001b[0m\u001b[37m\u001b[0m \u001b[1m2s\u001b[0m 11ms/step - accuracy: 0.5471 - auc: 0.6268 - loss: 14.4273 - recall: 0.1882 - val_accuracy: 0.3305 - val_auc: 0.6157 - val_loss: 14.3358 - val_recall: 0.0970\n",
      "Epoch 84/3000\n",
      "\u001b[1m191/191\u001b[0m \u001b[32m━━━━━━━━━━━━━━━━━━━━\u001b[0m\u001b[37m\u001b[0m \u001b[1m2s\u001b[0m 12ms/step - accuracy: 0.5404 - auc: 0.6152 - loss: 14.1595 - recall: 0.1839 - val_accuracy: 0.3286 - val_auc: 0.6162 - val_loss: 14.0650 - val_recall: 0.0931\n",
      "Epoch 85/3000\n",
      "\u001b[1m191/191\u001b[0m \u001b[32m━━━━━━━━━━━━━━━━━━━━\u001b[0m\u001b[37m\u001b[0m \u001b[1m2s\u001b[0m 11ms/step - accuracy: 0.5447 - auc: 0.6175 - loss: 13.8836 - recall: 0.1832 - val_accuracy: 0.3275 - val_auc: 0.6156 - val_loss: 13.7986 - val_recall: 0.0920\n",
      "Epoch 86/3000\n",
      "\u001b[1m191/191\u001b[0m \u001b[32m━━━━━━━━━━━━━━━━━━━━\u001b[0m\u001b[37m\u001b[0m \u001b[1m2s\u001b[0m 11ms/step - accuracy: 0.5382 - auc: 0.6165 - loss: 13.6159 - recall: 0.1757 - val_accuracy: 0.3266 - val_auc: 0.6153 - val_loss: 13.5375 - val_recall: 0.0916\n",
      "Epoch 87/3000\n",
      "\u001b[1m191/191\u001b[0m \u001b[32m━━━━━━━━━━━━━━━━━━━━\u001b[0m\u001b[37m\u001b[0m \u001b[1m2s\u001b[0m 11ms/step - accuracy: 0.5415 - auc: 0.6124 - loss: 13.3608 - recall: 0.1740 - val_accuracy: 0.3238 - val_auc: 0.6156 - val_loss: 13.2846 - val_recall: 0.0854\n",
      "Epoch 88/3000\n",
      "\u001b[1m191/191\u001b[0m \u001b[32m━━━━━━━━━━━━━━━━━━━━\u001b[0m\u001b[37m\u001b[0m \u001b[1m2s\u001b[0m 11ms/step - accuracy: 0.5392 - auc: 0.6238 - loss: 13.0952 - recall: 0.1734 - val_accuracy: 0.3247 - val_auc: 0.6161 - val_loss: 13.0333 - val_recall: 0.0846\n",
      "Epoch 89/3000\n",
      "\u001b[1m191/191\u001b[0m \u001b[32m━━━━━━━━━━━━━━━━━━━━\u001b[0m\u001b[37m\u001b[0m \u001b[1m2s\u001b[0m 12ms/step - accuracy: 0.5444 - auc: 0.6273 - loss: 12.8401 - recall: 0.1753 - val_accuracy: 0.3199 - val_auc: 0.6149 - val_loss: 12.7892 - val_recall: 0.0781\n",
      "Epoch 90/3000\n",
      "\u001b[1m191/191\u001b[0m \u001b[32m━━━━━━━━━━━━━━━━━━━━\u001b[0m\u001b[37m\u001b[0m \u001b[1m2s\u001b[0m 11ms/step - accuracy: 0.5359 - auc: 0.6095 - loss: 12.6048 - recall: 0.1658 - val_accuracy: 0.3205 - val_auc: 0.6140 - val_loss: 12.5455 - val_recall: 0.0788\n",
      "Epoch 91/3000\n",
      "\u001b[1m191/191\u001b[0m \u001b[32m━━━━━━━━━━━━━━━━━━━━\u001b[0m\u001b[37m\u001b[0m \u001b[1m2s\u001b[0m 11ms/step - accuracy: 0.5498 - auc: 0.6345 - loss: 12.3412 - recall: 0.1694 - val_accuracy: 0.3213 - val_auc: 0.6143 - val_loss: 12.3091 - val_recall: 0.0796\n",
      "Epoch 92/3000\n",
      "\u001b[1m191/191\u001b[0m \u001b[32m━━━━━━━━━━━━━━━━━━━━\u001b[0m\u001b[37m\u001b[0m \u001b[1m2s\u001b[0m 11ms/step - accuracy: 0.5424 - auc: 0.6253 - loss: 12.1156 - recall: 0.1687 - val_accuracy: 0.3213 - val_auc: 0.6151 - val_loss: 12.0781 - val_recall: 0.0792\n",
      "Epoch 93/3000\n",
      "\u001b[1m191/191\u001b[0m \u001b[32m━━━━━━━━━━━━━━━━━━━━\u001b[0m\u001b[37m\u001b[0m \u001b[1m2s\u001b[0m 12ms/step - accuracy: 0.5385 - auc: 0.6221 - loss: 11.8839 - recall: 0.1613 - val_accuracy: 0.3185 - val_auc: 0.6149 - val_loss: 11.8499 - val_recall: 0.0750\n",
      "Epoch 94/3000\n",
      "\u001b[1m191/191\u001b[0m \u001b[32m━━━━━━━━━━━━━━━━━━━━\u001b[0m\u001b[37m\u001b[0m \u001b[1m2s\u001b[0m 12ms/step - accuracy: 0.5462 - auc: 0.6249 - loss: 11.6504 - recall: 0.1609 - val_accuracy: 0.3155 - val_auc: 0.6145 - val_loss: 11.6297 - val_recall: 0.0707\n",
      "Epoch 95/3000\n",
      "\u001b[1m191/191\u001b[0m \u001b[32m━━━━━━━━━━━━━━━━━━━━\u001b[0m\u001b[37m\u001b[0m \u001b[1m2s\u001b[0m 12ms/step - accuracy: 0.5403 - auc: 0.6183 - loss: 11.4317 - recall: 0.1537 - val_accuracy: 0.3166 - val_auc: 0.6146 - val_loss: 11.4095 - val_recall: 0.0696\n",
      "Epoch 96/3000\n",
      "\u001b[1m191/191\u001b[0m \u001b[32m━━━━━━━━━━━━━━━━━━━━\u001b[0m\u001b[37m\u001b[0m \u001b[1m2s\u001b[0m 11ms/step - accuracy: 0.5340 - auc: 0.6217 - loss: 11.2110 - recall: 0.1505 - val_accuracy: 0.3144 - val_auc: 0.6143 - val_loss: 11.1936 - val_recall: 0.0668\n",
      "Epoch 97/3000\n",
      "\u001b[1m191/191\u001b[0m \u001b[32m━━━━━━━━━━━━━━━━━━━━\u001b[0m\u001b[37m\u001b[0m \u001b[1m2s\u001b[0m 12ms/step - accuracy: 0.5378 - auc: 0.6262 - loss: 10.9913 - recall: 0.1462 - val_accuracy: 0.3132 - val_auc: 0.6142 - val_loss: 10.9825 - val_recall: 0.0641\n",
      "Epoch 98/3000\n",
      "\u001b[1m191/191\u001b[0m \u001b[32m━━━━━━━━━━━━━━━━━━━━\u001b[0m\u001b[37m\u001b[0m \u001b[1m2s\u001b[0m 11ms/step - accuracy: 0.5394 - auc: 0.6279 - loss: 10.7772 - recall: 0.1529 - val_accuracy: 0.3141 - val_auc: 0.6144 - val_loss: 10.7739 - val_recall: 0.0645\n",
      "Epoch 99/3000\n",
      "\u001b[1m191/191\u001b[0m \u001b[32m━━━━━━━━━━━━━━━━━━━━\u001b[0m\u001b[37m\u001b[0m \u001b[1m2s\u001b[0m 12ms/step - accuracy: 0.5418 - auc: 0.6248 - loss: 10.5655 - recall: 0.1485 - val_accuracy: 0.3141 - val_auc: 0.6140 - val_loss: 10.5703 - val_recall: 0.0641\n",
      "Epoch 100/3000\n",
      "\u001b[1m189/191\u001b[0m \u001b[32m━━━━━━━━━━━━━━━━━━━\u001b[0m\u001b[37m━\u001b[0m \u001b[1m0s\u001b[0m 12ms/step - accuracy: 0.5418 - auc: 0.6278 - loss: 10.3594 - recall: 0.1426"
     ]
    },
    {
     "ename": "KeyboardInterrupt",
     "evalue": "",
     "output_type": "error",
     "traceback": [
      "\u001b[1;31m---------------------------------------------------------------------------\u001b[0m",
      "\u001b[1;31mKeyboardInterrupt\u001b[0m                         Traceback (most recent call last)",
      "Cell \u001b[1;32mIn[22], line 1\u001b[0m\n\u001b[1;32m----> 1\u001b[0m history \u001b[38;5;241m=\u001b[39m \u001b[43mmodel\u001b[49m\u001b[38;5;241;43m.\u001b[39;49m\u001b[43mfit\u001b[49m\u001b[43m(\u001b[49m\u001b[43mx_tl\u001b[49m\u001b[43m,\u001b[49m\u001b[43m \u001b[49m\u001b[43my_tl\u001b[49m\u001b[43m,\u001b[49m\u001b[43m \u001b[49m\u001b[43mepochs\u001b[49m\u001b[38;5;241;43m=\u001b[39;49m\u001b[38;5;241;43m3000\u001b[39;49m\u001b[43m,\u001b[49m\u001b[43m \u001b[49m\u001b[43mbatch_size\u001b[49m\u001b[38;5;241;43m=\u001b[39;49m\u001b[38;5;241;43m128\u001b[39;49m\u001b[43m,\u001b[49m\u001b[43m \u001b[49m\u001b[43mcallbacks\u001b[49m\u001b[38;5;241;43m=\u001b[39;49m\u001b[43m[\u001b[49m\u001b[43mearly_stopping\u001b[49m\u001b[43m]\u001b[49m\u001b[43m,\u001b[49m\u001b[43m \u001b[49m\u001b[43mclass_weight\u001b[49m\u001b[38;5;241;43m=\u001b[39;49m\u001b[43mclass_weight_dict\u001b[49m\u001b[43m,\u001b[49m\u001b[43mvalidation_data\u001b[49m\u001b[43m \u001b[49m\u001b[38;5;241;43m=\u001b[39;49m\u001b[43m \u001b[49m\u001b[43m(\u001b[49m\u001b[43mdev_tf\u001b[49m\u001b[43m,\u001b[49m\u001b[43m \u001b[49m\u001b[43mdev_label_tf\u001b[49m\u001b[43m)\u001b[49m\u001b[43m)\u001b[49m\n",
      "File \u001b[1;32mc:\\Users\\Omar\\AppData\\Local\\Programs\\Python\\Python311\\Lib\\site-packages\\keras\\src\\utils\\traceback_utils.py:117\u001b[0m, in \u001b[0;36mfilter_traceback.<locals>.error_handler\u001b[1;34m(*args, **kwargs)\u001b[0m\n\u001b[0;32m    115\u001b[0m filtered_tb \u001b[38;5;241m=\u001b[39m \u001b[38;5;28;01mNone\u001b[39;00m\n\u001b[0;32m    116\u001b[0m \u001b[38;5;28;01mtry\u001b[39;00m:\n\u001b[1;32m--> 117\u001b[0m     \u001b[38;5;28;01mreturn\u001b[39;00m \u001b[43mfn\u001b[49m\u001b[43m(\u001b[49m\u001b[38;5;241;43m*\u001b[39;49m\u001b[43margs\u001b[49m\u001b[43m,\u001b[49m\u001b[43m \u001b[49m\u001b[38;5;241;43m*\u001b[39;49m\u001b[38;5;241;43m*\u001b[39;49m\u001b[43mkwargs\u001b[49m\u001b[43m)\u001b[49m\n\u001b[0;32m    118\u001b[0m \u001b[38;5;28;01mexcept\u001b[39;00m \u001b[38;5;167;01mException\u001b[39;00m \u001b[38;5;28;01mas\u001b[39;00m e:\n\u001b[0;32m    119\u001b[0m     filtered_tb \u001b[38;5;241m=\u001b[39m _process_traceback_frames(e\u001b[38;5;241m.\u001b[39m__traceback__)\n",
      "File \u001b[1;32mc:\\Users\\Omar\\AppData\\Local\\Programs\\Python\\Python311\\Lib\\site-packages\\keras\\src\\backend\\tensorflow\\trainer.py:339\u001b[0m, in \u001b[0;36mTensorFlowTrainer.fit\u001b[1;34m(self, x, y, batch_size, epochs, verbose, callbacks, validation_split, validation_data, shuffle, class_weight, sample_weight, initial_epoch, steps_per_epoch, validation_steps, validation_batch_size, validation_freq)\u001b[0m\n\u001b[0;32m    328\u001b[0m \u001b[38;5;28;01mif\u001b[39;00m \u001b[38;5;28mgetattr\u001b[39m(\u001b[38;5;28mself\u001b[39m, \u001b[38;5;124m\"\u001b[39m\u001b[38;5;124m_eval_epoch_iterator\u001b[39m\u001b[38;5;124m\"\u001b[39m, \u001b[38;5;28;01mNone\u001b[39;00m) \u001b[38;5;129;01mis\u001b[39;00m \u001b[38;5;28;01mNone\u001b[39;00m:\n\u001b[0;32m    329\u001b[0m     \u001b[38;5;28mself\u001b[39m\u001b[38;5;241m.\u001b[39m_eval_epoch_iterator \u001b[38;5;241m=\u001b[39m TFEpochIterator(\n\u001b[0;32m    330\u001b[0m         x\u001b[38;5;241m=\u001b[39mval_x,\n\u001b[0;32m    331\u001b[0m         y\u001b[38;5;241m=\u001b[39mval_y,\n\u001b[1;32m   (...)\u001b[0m\n\u001b[0;32m    337\u001b[0m         shuffle\u001b[38;5;241m=\u001b[39m\u001b[38;5;28;01mFalse\u001b[39;00m,\n\u001b[0;32m    338\u001b[0m     )\n\u001b[1;32m--> 339\u001b[0m val_logs \u001b[38;5;241m=\u001b[39m \u001b[38;5;28;43mself\u001b[39;49m\u001b[38;5;241;43m.\u001b[39;49m\u001b[43mevaluate\u001b[49m\u001b[43m(\u001b[49m\n\u001b[0;32m    340\u001b[0m \u001b[43m    \u001b[49m\u001b[43mx\u001b[49m\u001b[38;5;241;43m=\u001b[39;49m\u001b[43mval_x\u001b[49m\u001b[43m,\u001b[49m\n\u001b[0;32m    341\u001b[0m \u001b[43m    \u001b[49m\u001b[43my\u001b[49m\u001b[38;5;241;43m=\u001b[39;49m\u001b[43mval_y\u001b[49m\u001b[43m,\u001b[49m\n\u001b[0;32m    342\u001b[0m \u001b[43m    \u001b[49m\u001b[43msample_weight\u001b[49m\u001b[38;5;241;43m=\u001b[39;49m\u001b[43mval_sample_weight\u001b[49m\u001b[43m,\u001b[49m\n\u001b[0;32m    343\u001b[0m \u001b[43m    \u001b[49m\u001b[43mbatch_size\u001b[49m\u001b[38;5;241;43m=\u001b[39;49m\u001b[43mvalidation_batch_size\u001b[49m\u001b[43m \u001b[49m\u001b[38;5;129;43;01mor\u001b[39;49;00m\u001b[43m \u001b[49m\u001b[43mbatch_size\u001b[49m\u001b[43m,\u001b[49m\n\u001b[0;32m    344\u001b[0m \u001b[43m    \u001b[49m\u001b[43msteps\u001b[49m\u001b[38;5;241;43m=\u001b[39;49m\u001b[43mvalidation_steps\u001b[49m\u001b[43m,\u001b[49m\n\u001b[0;32m    345\u001b[0m \u001b[43m    \u001b[49m\u001b[43mcallbacks\u001b[49m\u001b[38;5;241;43m=\u001b[39;49m\u001b[43mcallbacks\u001b[49m\u001b[43m,\u001b[49m\n\u001b[0;32m    346\u001b[0m \u001b[43m    \u001b[49m\u001b[43mreturn_dict\u001b[49m\u001b[38;5;241;43m=\u001b[39;49m\u001b[38;5;28;43;01mTrue\u001b[39;49;00m\u001b[43m,\u001b[49m\n\u001b[0;32m    347\u001b[0m \u001b[43m    \u001b[49m\u001b[43m_use_cached_eval_dataset\u001b[49m\u001b[38;5;241;43m=\u001b[39;49m\u001b[38;5;28;43;01mTrue\u001b[39;49;00m\u001b[43m,\u001b[49m\n\u001b[0;32m    348\u001b[0m \u001b[43m\u001b[49m\u001b[43m)\u001b[49m\n\u001b[0;32m    349\u001b[0m val_logs \u001b[38;5;241m=\u001b[39m {\n\u001b[0;32m    350\u001b[0m     \u001b[38;5;124m\"\u001b[39m\u001b[38;5;124mval_\u001b[39m\u001b[38;5;124m\"\u001b[39m \u001b[38;5;241m+\u001b[39m name: val \u001b[38;5;28;01mfor\u001b[39;00m name, val \u001b[38;5;129;01min\u001b[39;00m val_logs\u001b[38;5;241m.\u001b[39mitems()\n\u001b[0;32m    351\u001b[0m }\n\u001b[0;32m    352\u001b[0m epoch_logs\u001b[38;5;241m.\u001b[39mupdate(val_logs)\n",
      "File \u001b[1;32mc:\\Users\\Omar\\AppData\\Local\\Programs\\Python\\Python311\\Lib\\site-packages\\keras\\src\\utils\\traceback_utils.py:117\u001b[0m, in \u001b[0;36mfilter_traceback.<locals>.error_handler\u001b[1;34m(*args, **kwargs)\u001b[0m\n\u001b[0;32m    115\u001b[0m filtered_tb \u001b[38;5;241m=\u001b[39m \u001b[38;5;28;01mNone\u001b[39;00m\n\u001b[0;32m    116\u001b[0m \u001b[38;5;28;01mtry\u001b[39;00m:\n\u001b[1;32m--> 117\u001b[0m     \u001b[38;5;28;01mreturn\u001b[39;00m \u001b[43mfn\u001b[49m\u001b[43m(\u001b[49m\u001b[38;5;241;43m*\u001b[39;49m\u001b[43margs\u001b[49m\u001b[43m,\u001b[49m\u001b[43m \u001b[49m\u001b[38;5;241;43m*\u001b[39;49m\u001b[38;5;241;43m*\u001b[39;49m\u001b[43mkwargs\u001b[49m\u001b[43m)\u001b[49m\n\u001b[0;32m    118\u001b[0m \u001b[38;5;28;01mexcept\u001b[39;00m \u001b[38;5;167;01mException\u001b[39;00m \u001b[38;5;28;01mas\u001b[39;00m e:\n\u001b[0;32m    119\u001b[0m     filtered_tb \u001b[38;5;241m=\u001b[39m _process_traceback_frames(e\u001b[38;5;241m.\u001b[39m__traceback__)\n",
      "File \u001b[1;32mc:\\Users\\Omar\\AppData\\Local\\Programs\\Python\\Python311\\Lib\\site-packages\\keras\\src\\backend\\tensorflow\\trainer.py:423\u001b[0m, in \u001b[0;36mTensorFlowTrainer.evaluate\u001b[1;34m(self, x, y, batch_size, verbose, sample_weight, steps, callbacks, return_dict, **kwargs)\u001b[0m\n\u001b[0;32m    421\u001b[0m \u001b[38;5;28mself\u001b[39m\u001b[38;5;241m.\u001b[39mreset_metrics()\n\u001b[0;32m    422\u001b[0m \u001b[38;5;28;01mwith\u001b[39;00m epoch_iterator\u001b[38;5;241m.\u001b[39mcatch_stop_iteration():\n\u001b[1;32m--> 423\u001b[0m \u001b[43m    \u001b[49m\u001b[38;5;28;43;01mfor\u001b[39;49;00m\u001b[43m \u001b[49m\u001b[43mstep\u001b[49m\u001b[43m,\u001b[49m\u001b[43m \u001b[49m\u001b[43miterator\u001b[49m\u001b[43m \u001b[49m\u001b[38;5;129;43;01min\u001b[39;49;00m\u001b[43m \u001b[49m\u001b[43mepoch_iterator\u001b[49m\u001b[38;5;241;43m.\u001b[39;49m\u001b[43menumerate_epoch\u001b[49m\u001b[43m(\u001b[49m\u001b[43m)\u001b[49m\u001b[43m:\u001b[49m\n\u001b[0;32m    424\u001b[0m \u001b[43m        \u001b[49m\u001b[43mcallbacks\u001b[49m\u001b[38;5;241;43m.\u001b[39;49m\u001b[43mon_test_batch_begin\u001b[49m\u001b[43m(\u001b[49m\u001b[43mstep\u001b[49m\u001b[43m)\u001b[49m\n\u001b[0;32m    425\u001b[0m \u001b[43m        \u001b[49m\u001b[43mlogs\u001b[49m\u001b[43m \u001b[49m\u001b[38;5;241;43m=\u001b[39;49m\u001b[43m \u001b[49m\u001b[38;5;28;43mself\u001b[39;49m\u001b[38;5;241;43m.\u001b[39;49m\u001b[43mtest_function\u001b[49m\u001b[43m(\u001b[49m\u001b[43miterator\u001b[49m\u001b[43m)\u001b[49m\n",
      "File \u001b[1;32mc:\\Users\\Omar\\AppData\\Local\\Programs\\Python\\Python311\\Lib\\site-packages\\keras\\src\\backend\\tensorflow\\trainer.py:645\u001b[0m, in \u001b[0;36mTFEpochIterator.enumerate_epoch\u001b[1;34m(self)\u001b[0m\n\u001b[0;32m    643\u001b[0m         \u001b[38;5;28;01myield\u001b[39;00m step, \u001b[38;5;28mself\u001b[39m\u001b[38;5;241m.\u001b[39m_current_iterator\n\u001b[0;32m    644\u001b[0m \u001b[38;5;28;01melse\u001b[39;00m:\n\u001b[1;32m--> 645\u001b[0m     iterator \u001b[38;5;241m=\u001b[39m \u001b[38;5;28miter\u001b[39m(\u001b[38;5;28mself\u001b[39m\u001b[38;5;241m.\u001b[39m_distributed_dataset)\n\u001b[0;32m    646\u001b[0m     \u001b[38;5;28;01mif\u001b[39;00m \u001b[38;5;28mself\u001b[39m\u001b[38;5;241m.\u001b[39mnum_batches:\n\u001b[0;32m    647\u001b[0m         \u001b[38;5;28;01mfor\u001b[39;00m step \u001b[38;5;129;01min\u001b[39;00m \u001b[38;5;28mrange\u001b[39m(\n\u001b[0;32m    648\u001b[0m             \u001b[38;5;241m0\u001b[39m, \u001b[38;5;28mself\u001b[39m\u001b[38;5;241m.\u001b[39mnum_batches, \u001b[38;5;28mself\u001b[39m\u001b[38;5;241m.\u001b[39msteps_per_execution\n\u001b[0;32m    649\u001b[0m         ):\n",
      "File \u001b[1;32mc:\\Users\\Omar\\AppData\\Local\\Programs\\Python\\Python311\\Lib\\site-packages\\tensorflow\\python\\data\\ops\\dataset_ops.py:501\u001b[0m, in \u001b[0;36mDatasetV2.__iter__\u001b[1;34m(self)\u001b[0m\n\u001b[0;32m    499\u001b[0m \u001b[38;5;28;01mif\u001b[39;00m context\u001b[38;5;241m.\u001b[39mexecuting_eagerly() \u001b[38;5;129;01mor\u001b[39;00m ops\u001b[38;5;241m.\u001b[39minside_function():\n\u001b[0;32m    500\u001b[0m   \u001b[38;5;28;01mwith\u001b[39;00m ops\u001b[38;5;241m.\u001b[39mcolocate_with(\u001b[38;5;28mself\u001b[39m\u001b[38;5;241m.\u001b[39m_variant_tensor):\n\u001b[1;32m--> 501\u001b[0m     \u001b[38;5;28;01mreturn\u001b[39;00m \u001b[43miterator_ops\u001b[49m\u001b[38;5;241;43m.\u001b[39;49m\u001b[43mOwnedIterator\u001b[49m\u001b[43m(\u001b[49m\u001b[38;5;28;43mself\u001b[39;49m\u001b[43m)\u001b[49m\n\u001b[0;32m    502\u001b[0m \u001b[38;5;28;01melse\u001b[39;00m:\n\u001b[0;32m    503\u001b[0m   \u001b[38;5;28;01mraise\u001b[39;00m \u001b[38;5;167;01mRuntimeError\u001b[39;00m(\u001b[38;5;124m\"\u001b[39m\u001b[38;5;124m`tf.data.Dataset` only supports Python-style \u001b[39m\u001b[38;5;124m\"\u001b[39m\n\u001b[0;32m    504\u001b[0m                      \u001b[38;5;124m\"\u001b[39m\u001b[38;5;124miteration in eager mode or within tf.function.\u001b[39m\u001b[38;5;124m\"\u001b[39m)\n",
      "File \u001b[1;32mc:\\Users\\Omar\\AppData\\Local\\Programs\\Python\\Python311\\Lib\\site-packages\\tensorflow\\python\\data\\ops\\iterator_ops.py:705\u001b[0m, in \u001b[0;36mOwnedIterator.__init__\u001b[1;34m(self, dataset, components, element_spec)\u001b[0m\n\u001b[0;32m    701\u001b[0m   \u001b[38;5;28;01mif\u001b[39;00m (components \u001b[38;5;129;01mis\u001b[39;00m \u001b[38;5;129;01mnot\u001b[39;00m \u001b[38;5;28;01mNone\u001b[39;00m \u001b[38;5;129;01mor\u001b[39;00m element_spec \u001b[38;5;129;01mis\u001b[39;00m \u001b[38;5;129;01mnot\u001b[39;00m \u001b[38;5;28;01mNone\u001b[39;00m):\n\u001b[0;32m    702\u001b[0m     \u001b[38;5;28;01mraise\u001b[39;00m \u001b[38;5;167;01mValueError\u001b[39;00m(\n\u001b[0;32m    703\u001b[0m         \u001b[38;5;124m\"\u001b[39m\u001b[38;5;124mWhen `dataset` is provided, `element_spec` and `components` must \u001b[39m\u001b[38;5;124m\"\u001b[39m\n\u001b[0;32m    704\u001b[0m         \u001b[38;5;124m\"\u001b[39m\u001b[38;5;124mnot be specified.\u001b[39m\u001b[38;5;124m\"\u001b[39m)\n\u001b[1;32m--> 705\u001b[0m   \u001b[38;5;28;43mself\u001b[39;49m\u001b[38;5;241;43m.\u001b[39;49m\u001b[43m_create_iterator\u001b[49m\u001b[43m(\u001b[49m\u001b[43mdataset\u001b[49m\u001b[43m)\u001b[49m\n\u001b[0;32m    707\u001b[0m \u001b[38;5;28mself\u001b[39m\u001b[38;5;241m.\u001b[39m_get_next_call_count \u001b[38;5;241m=\u001b[39m \u001b[38;5;241m0\u001b[39m\n",
      "File \u001b[1;32mc:\\Users\\Omar\\AppData\\Local\\Programs\\Python\\Python311\\Lib\\site-packages\\tensorflow\\python\\data\\ops\\iterator_ops.py:744\u001b[0m, in \u001b[0;36mOwnedIterator._create_iterator\u001b[1;34m(self, dataset)\u001b[0m\n\u001b[0;32m    741\u001b[0m   \u001b[38;5;28;01massert\u001b[39;00m \u001b[38;5;28mlen\u001b[39m(fulltype\u001b[38;5;241m.\u001b[39margs[\u001b[38;5;241m0\u001b[39m]\u001b[38;5;241m.\u001b[39margs[\u001b[38;5;241m0\u001b[39m]\u001b[38;5;241m.\u001b[39margs) \u001b[38;5;241m==\u001b[39m \u001b[38;5;28mlen\u001b[39m(\n\u001b[0;32m    742\u001b[0m       \u001b[38;5;28mself\u001b[39m\u001b[38;5;241m.\u001b[39m_flat_output_types)\n\u001b[0;32m    743\u001b[0m   \u001b[38;5;28mself\u001b[39m\u001b[38;5;241m.\u001b[39m_iterator_resource\u001b[38;5;241m.\u001b[39mop\u001b[38;5;241m.\u001b[39mexperimental_set_type(fulltype)\n\u001b[1;32m--> 744\u001b[0m \u001b[43mgen_dataset_ops\u001b[49m\u001b[38;5;241;43m.\u001b[39;49m\u001b[43mmake_iterator\u001b[49m\u001b[43m(\u001b[49m\u001b[43mds_variant\u001b[49m\u001b[43m,\u001b[49m\u001b[43m \u001b[49m\u001b[38;5;28;43mself\u001b[39;49m\u001b[38;5;241;43m.\u001b[39;49m\u001b[43m_iterator_resource\u001b[49m\u001b[43m)\u001b[49m\n",
      "File \u001b[1;32mc:\\Users\\Omar\\AppData\\Local\\Programs\\Python\\Python311\\Lib\\site-packages\\tensorflow\\python\\ops\\gen_dataset_ops.py:3478\u001b[0m, in \u001b[0;36mmake_iterator\u001b[1;34m(dataset, iterator, name)\u001b[0m\n\u001b[0;32m   3476\u001b[0m \u001b[38;5;28;01mif\u001b[39;00m tld\u001b[38;5;241m.\u001b[39mis_eager:\n\u001b[0;32m   3477\u001b[0m   \u001b[38;5;28;01mtry\u001b[39;00m:\n\u001b[1;32m-> 3478\u001b[0m     _result \u001b[38;5;241m=\u001b[39m \u001b[43mpywrap_tfe\u001b[49m\u001b[38;5;241;43m.\u001b[39;49m\u001b[43mTFE_Py_FastPathExecute\u001b[49m\u001b[43m(\u001b[49m\n\u001b[0;32m   3479\u001b[0m \u001b[43m      \u001b[49m\u001b[43m_ctx\u001b[49m\u001b[43m,\u001b[49m\u001b[43m \u001b[49m\u001b[38;5;124;43m\"\u001b[39;49m\u001b[38;5;124;43mMakeIterator\u001b[39;49m\u001b[38;5;124;43m\"\u001b[39;49m\u001b[43m,\u001b[49m\u001b[43m \u001b[49m\u001b[43mname\u001b[49m\u001b[43m,\u001b[49m\u001b[43m \u001b[49m\u001b[43mdataset\u001b[49m\u001b[43m,\u001b[49m\u001b[43m \u001b[49m\u001b[43miterator\u001b[49m\u001b[43m)\u001b[49m\n\u001b[0;32m   3480\u001b[0m     \u001b[38;5;28;01mreturn\u001b[39;00m _result\n\u001b[0;32m   3481\u001b[0m   \u001b[38;5;28;01mexcept\u001b[39;00m _core\u001b[38;5;241m.\u001b[39m_NotOkStatusException \u001b[38;5;28;01mas\u001b[39;00m e:\n",
      "\u001b[1;31mKeyboardInterrupt\u001b[0m: "
     ]
    }
   ],
   "source": [
    "history = model.fit(train_tf, train_label_tf, epochs=3000, batch_size=128, callbacks=[early_stopping], class_weight=class_weight_dict,validation_data = (dev_tf, dev_label_tf))"
   ]
  },
  {
   "cell_type": "code",
   "execution_count": 31,
   "metadata": {},
   "outputs": [],
   "source": [
    "from sklearn.metrics import classification_report, roc_auc_score\n",
    "\n",
    "# y_pred = model.predict(X_resampled)\n",
    "# y_pred = y_pred.round()\n",
    "# print(\"Classification Report:\")\n",
    "print(classification_report(dev_label_tf, y_pred))\n",
    "# print(\"ROC AUC Score:\", roc_auc_score(dev_label_tf, y_pred))"
   ]
  },
  {
   "cell_type": "code",
   "execution_count": 15,
   "metadata": {},
   "outputs": [
    {
     "name": "stdout",
     "output_type": "stream",
     "text": [
      "\u001b[1m113/113\u001b[0m \u001b[32m━━━━━━━━━━━━━━━━━━━━\u001b[0m\u001b[37m\u001b[0m \u001b[1m1s\u001b[0m 4ms/step\n",
      "Precision: 0.78\n",
      "Recall: 0.58\n",
      "F1-Score: 0.67\n"
     ]
    },
    {
     "data": {
      "text/plain": [
       "0.5630165289256198"
      ]
     },
     "execution_count": 15,
     "metadata": {},
     "output_type": "execute_result"
    }
   ],
   "source": [
    "from sklearn.metrics import precision_score, recall_score, f1_score\n",
    "\n",
    "\n",
    "y_pred = model.predict(dev_tf)\n",
    "y_pred = y_pred.round()\n",
    "\n",
    "precision = precision_score(dev_label_tf, y_pred)\n",
    "recall = recall_score(dev_label_tf, y_pred)\n",
    "f1 = f1_score(dev_label_tf, y_pred)\n",
    "\n",
    "print(f\"Precision: {precision:.2f}\")\n",
    "print(f\"Recall: {recall:.2f}\")\n",
    "print(f\"F1-Score: {f1:.2f}\")\n",
    "recall_score(dev_label_tf, y_pred, pos_label=0)"
   ]
  },
  {
   "cell_type": "code",
   "execution_count": 16,
   "metadata": {},
   "outputs": [
    {
     "data": {
      "image/png": "[encoded data removed]",
      "text/plain": [
       "<Figure size 1000x600 with 1 Axes>"
      ]
     },
     "metadata": {},
     "output_type": "display_data"
    }
   ],
   "source": [
    "loss_values = history.history['loss']\n",
    "val_loss_values = history.history.get('val_loss')\n",
    "\n",
    "# Plot the loss values\n",
    "plt.figure(figsize=(10, 6))\n",
    "plt.plot(loss_values, label='Training Loss')\n",
    "if val_loss_values:\n",
    "    plt.plot(val_loss_values, label='Validation Loss', linestyle='--')\n",
    "\n",
    "plt.xlabel('Epoch')\n",
    "plt.ylabel('Loss')\n",
    "plt.title('Training and Validation Loss')\n",
    "plt.legend()\n",
    "plt.grid(True)\n",
    "plt.show()"
   ]
  },
  {
   "cell_type": "code",
   "execution_count": 17,
   "metadata": {},
   "outputs": [
    {
     "name": "stdout",
     "output_type": "stream",
     "text": [
      "\u001b[1m113/113\u001b[0m \u001b[32m━━━━━━━━━━━━━━━━━━━━\u001b[0m\u001b[37m\u001b[0m \u001b[1m0s\u001b[0m 3ms/step - accuracy: 0.5644 - auc: 0.6007 - loss: 1.0429 - recall: 0.5658\n"
     ]
    },
    {
     "data": {
      "text/plain": [
       "[1.0337666273117065,\n",
       " 0.5785216093063354,\n",
       " 0.5842567682266235,\n",
       " 0.6086810827255249]"
      ]
     },
     "execution_count": 17,
     "metadata": {},
     "output_type": "execute_result"
    }
   ],
   "source": [
    "model.evaluate(dev_tf, dev_label_tf)"
   ]
  },
  {
   "cell_type": "code",
   "execution_count": 24,
   "metadata": {},
   "outputs": [],
   "source": [
    "from xgboost import XGBClassifier"
   ]
  },
  {
   "cell_type": "code",
   "execution_count": 41,
   "metadata": {},
   "outputs": [
    {
     "name": "stdout",
     "output_type": "stream",
     "text": [
      "0.9634110005363209\n",
      "0.6566248256624826\n"
     ]
    }
   ],
   "source": [
    "model = XGBClassifier(n_estimators=500, max_depth=6, subsample=0.6, colsample_bytree=0.6, learning_rate=0.1, reg_alpha=0.1, reg_lambda=1.0, scale_pos_weight=0.3, objective='binary:logistic')\n",
    "model.fit(train_tf, train_label_tf)\n",
    "print(model.score(train_tf, train_label_tf))\n",
    "print(model.score(dev_tf, dev_label_tf))\n",
    "y_pred = model.predict(dev_tf)"
   ]
  },
  {
   "cell_type": "code",
   "execution_count": 32,
   "metadata": {},
   "outputs": [
    {
     "name": "stdout",
     "output_type": "stream",
     "text": [
      "Precision: 0.73\n",
      "Recall: 0.97\n",
      "F1-Score: 0.84\n",
      "              precision    recall  f1-score   support\n",
      "\n",
      "         0.0       0.52      0.07      0.13       997\n",
      "         1.0       0.73      0.97      0.84      2588\n",
      "\n",
      "    accuracy                           0.72      3585\n",
      "   macro avg       0.63      0.52      0.48      3585\n",
      "weighted avg       0.67      0.72      0.64      3585\n",
      "\n"
     ]
    }
   ],
   "source": [
    "from sklearn.metrics import precision_score, recall_score, f1_score, accuracy_score, roc_auc_score\n",
    "\n",
    "precision = precision_score(dev_label_tf, y_pred)\n",
    "recall = recall_score(dev_label_tf, y_pred)\n",
    "f1 = f1_score(dev_label_tf, y_pred)\n",
    "\n",
    "print(f\"Precision: {precision:.2f}\")\n",
    "print(f\"Recall: {recall:.2f}\")\n",
    "print(f\"F1-Score: {f1:.2f}\")\n",
    "print(classification_report(dev_label_tf, y_pred))\n"
   ]
  },
  {
   "cell_type": "code",
   "execution_count": 21,
   "metadata": {},
   "outputs": [],
   "source": [
    "# from sklearn.model_selection import GridSearchCV\n",
    "\n",
    "# param_grid = {\n",
    "#     'n_estimators': [100, 300, 500],\n",
    "#     'max_depth': [3, 6, 9],\n",
    "#     'learning_rate': [0.01, 0.1, 0.2],\n",
    "#     'subsample': [0.7, 0.8, 1.0],\n",
    "#     'colsample_bytree': [0.7, 0.8, 1.0],\n",
    "#     'reg_alpha': [0.01, 0.1, 1],\n",
    "#     'reg_lambda': [0.01, 0.1, 1]\n",
    "# }\n",
    "\n",
    "# grid_search = GridSearchCV(estimator=model, param_grid=param_grid, scoring='accuracy', cv=5)\n",
    "# grid_search.fit(np.array(train_tf), np.array(train_label_tf))\n",
    "\n",
    "# print(f\"Best Hyperparameters: {grid_search.best_params_}\")\n",
    "# print(f\"Best Cross-Validation Accuracy: {grid_search.best_score_ * 100:.2f}%\")\n"
   ]
  },
  {
   "cell_type": "code",
   "execution_count": 22,
   "metadata": {},
   "outputs": [],
   "source": [
    "# from sklearn.linear_model import LogisticRegression\n",
    "# from sklearn.ensemble import RandomForestClassifier\n",
    "\n",
    "# model = LogisticRegression(max_iter=1000)\n",
    "# model.fit(train_tf, train_label_tf)\n",
    "# print(f\"Logistic Regression Accuracy: {model.score(dev_tf, dev_label_tf) * 100:.2f}%\")\n",
    "\n",
    "# model = RandomForestClassifier(n_estimators=100)\n",
    "# model.fit(train_tf, train_label_tf)\n",
    "# print(f\"Random Forest Accuracy: {model.score(dev_tf, dev_label_tf) * 100:.2f}%\")\n",
    "# model.predict(dev_tf)\n",
    "\n",
    "\n",
    "# precision = precision_score(dev_label_tf, y_pred)\n",
    "# recall = recall_score(dev_label_tf, y_pred)\n",
    "# f1 = f1_score(dev_label_tf, y_pred)\n",
    "\n",
    "# print(f\"Precision: {precision:.2f}\")\n",
    "# print(f\"Recall: {recall:.2f}\")\n",
    "# print(f\"F1-Score: {f1:.2f}\")\n",
    "# from sklearn.metrics import recall_score\n",
    "# recall_score(dev_label_tf, y_pred, pos_label=0)"
   ]
  },
  {
   "cell_type": "code",
   "execution_count": 8,
   "metadata": {},
   "outputs": [
    {
     "name": "stdout",
     "output_type": "stream",
     "text": [
      "ROCAUC score: 0.6952966710133466\n",
      "Accuracy score: 0.7006137894046839\n",
      "F1 score: 0.7735304724125496\n"
     ]
    }
   ],
   "source": [
    "from sklearn.svm import SVC\n",
    "\n",
    "# we can add class_weight='balanced' to add panalize mistake\n",
    "svc_model = SVC(class_weight='balanced', probability=True)\n",
    "\n",
    "svc_model.fit(train_tf, train_label_tf)\n",
    "\n",
    "svc_predict = svc_model.predict(train_tf)# check performance\n",
    "print('ROCAUC score:',roc_auc_score(train_label_tf, svc_predict))\n",
    "print('Accuracy score:',accuracy_score(train_label_tf, svc_predict))\n",
    "print('F1 score:',f1_score(train_label_tf, svc_predict))"
   ]
  }
 ],
 "metadata": {
  "kernelspec": {
   "display_name": "Python 3",
   "language": "python",
   "name": "python3"
  },
  "language_info": {
   "codemirror_mode": {
    "name": "ipython",
    "version": 3
   },
   "file_extension": ".py",
   "mimetype": "text/x-python",
   "name": "python",
   "nbconvert_exporter": "python",
   "pygments_lexer": "ipython3",
   "version": "3.11.4"
  }
 },
 "nbformat": 4,
 "nbformat_minor": 2
}
