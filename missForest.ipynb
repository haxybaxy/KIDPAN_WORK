{
 "cells": [
  {
   "cell_type": "code",
   "execution_count": 6,
   "metadata": {},
   "outputs": [],
   "source": [
    "import pandas as pd\n",
    "from missforest import MissForest\n",
    "from sklearn.model_selection import train_test_split"
   ]
  },
  {
   "cell_type": "code",
   "execution_count": 15,
   "metadata": {},
   "outputs": [],
   "source": [
    "data_nona = pd.read_csv(\"data_ready_nona.csv\")"
   ]
  },
  {
   "cell_type": "code",
   "execution_count": 16,
   "metadata": {},
   "outputs": [],
   "source": [
    "train, test = train_test_split(data_nona, test_size=0.3, random_state=42)"
   ]
  },
  {
   "cell_type": "code",
   "execution_count": 19,
   "metadata": {},
   "outputs": [],
   "source": [
    "catergorical_cols = [\"GENDER\", \"PERIP_VASC\", \"DDAVP_DON\", \"CMV_DON\", \"GENDER_DON\", \n",
    "                     'NON_HRT_DON', \"ANTIHYPE_DON\", \"BLOOD_INF_CONF_DON\", \"OTHER_INF_CONF_DON\", \n",
    "                     \"PT_DIURETICS_DON\", \"PT_STEROIDS_DON\", \"PT_T3_DON\", \"PT_T4_DON\", \n",
    "                     \"PULM_INF_CONF_DON\", \"URINE_INF_CONF_DON\", \"VASODIL_DON\", \"CLIN_INFECT_DON\", \n",
    "                     \"HIST_CIG_DON\", \"HIST_COCAINE_DON\", \"HIST_HYPERTENS_DON\", \"HIST_CANCER_DON\", \n",
    "                     \"HIST_OTH_DRUG_DON\", \"HEPARIN_DON\", \"MULTIORG\", \"ART_RECON_is2\", \n",
    "                     \"DUCT_MGMT_1\", \"DUCT_MGMT_2\", \"DUCT_MGMT_3\", \"DUCT_MGMT_999\", \n",
    "                     \"GRF_PLACEM_is1\", \"VASC_MGMT_is1\", \"VEN_EXT_GRF\", \"DIAG_PA_is5001\", \n",
    "                     \"GRF_STAT_PA\", \"ORGAN_isKP\", \"CMV_IGG\", \"CMV_IGM\", \"EBV_SEROSTATUS\", \n",
    "                     \"HBV_CORE\", \"HBV_SUR_ANTIGEN\", \"HCV_SEROSTATUS\", \"CMV_STATUS\", \n",
    "                     \"TX_TYPE_PTA\", \"TX_TYPE_PWK\", \"MED_COND_TRR_is3\", \"MALIG\", \"PROTEIN_URINE\", \n",
    "                     \"CARDARREST_NEURO\", \"INOTROP_SUPPORT_DON\"]"
   ]
  },
  {
   "cell_type": "code",
   "execution_count": 20,
   "metadata": {},
   "outputs": [],
   "source": [
    "mf = MissForest()\n",
    "\n",
    "mf.fit(x=train, categorical=catergorical_cols)"
   ]
  },
  {
   "cell_type": "code",
   "execution_count": 21,
   "metadata": {},
   "outputs": [
    {
     "name": "stderr",
     "output_type": "stream",
     "text": [
      "100%|██████████| 5/5 [01:53<00:00, 22.60s/it]\n",
      "100%|██████████| 5/5 [01:06<00:00, 13.32s/it]\n"
     ]
    }
   ],
   "source": [
    "train_imputed = mf.transform(train)\n",
    "test_imputed = mf.transform(test)"
   ]
  },
  {
   "cell_type": "code",
   "execution_count": 22,
   "metadata": {},
   "outputs": [],
   "source": [
    "train_imputed.to_csv(\"train_imp.csv\", index=False)\n",
    "test_imputed.to_csv(\"test_imp.csv\", index=False)"
   ]
  }
 ],
 "metadata": {
  "kernelspec": {
   "display_name": "Python 3",
   "language": "python",
   "name": "python3"
  },
  "language_info": {
   "codemirror_mode": {
    "name": "ipython",
    "version": 3
   },
   "file_extension": ".py",
   "mimetype": "text/x-python",
   "name": "python",
   "nbconvert_exporter": "python",
   "pygments_lexer": "ipython3",
   "version": "3.11.4"
  }
 },
 "nbformat": 4,
 "nbformat_minor": 2
}
